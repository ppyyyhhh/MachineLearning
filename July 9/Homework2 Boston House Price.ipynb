{
 "cells": [
  {
   "cell_type": "code",
   "execution_count": 1,
   "metadata": {},
   "outputs": [],
   "source": [
    "from sklearn.datasets import load_boston #load boston dataset and check\n"
   ]
  },
  {
   "cell_type": "code",
   "execution_count": 2,
   "metadata": {
    "scrolled": true
   },
   "outputs": [
    {
     "name": "stdout",
     "output_type": "stream",
     "text": [
      "The shape of boston data is:  (506, 13)\n"
     ]
    }
   ],
   "source": [
    "import numpy as np\n",
    "from sklearn.datasets import load_boston #load boston dataset and check\n",
    "from collections import Counter\n",
    "from scipy.spatial.distance import euclidean\n",
    "from scipy.spatial.distance import cityblock\n",
    "\n",
    "X, y = load_boston(return_X_y=True)\n",
    "print(\"The shape of boston data is: \", X.shape)  "
   ]
  },
  {
   "cell_type": "code",
   "execution_count": 5,
   "metadata": {},
   "outputs": [],
   "source": [
    "class KNN: #create the class of KNN.\n",
    "\n",
    "    def __init__(self, k=3, is_classification=True, distance_name='Euclidean'): # __init__ is the constructor function in python.\n",
    "        # When, later on in your code, you create an object with \"variable = KNN(), this function is called\"\n",
    "        self.k = k\n",
    "        self.distance_name = distance_name\n",
    "        self.is_classification = is_classification\n",
    "\n",
    "        # initializing a variable to store the values of the X and y that will be fitted to the model.\n",
    "        # Remember: KNN does not have to train the model, just store their values. Use these variables to do that\n",
    "        self.X = None \n",
    "        self.y = None\n",
    "\n",
    "    def _compute_distance(self, x1, x2, distance_name='Euclidean'):\n",
    "        # Here you will implement your distance function ie. Euclidean distance.\n",
    "        if distance_name == 'Euclidean':\n",
    "            distance = euclidean(x1, x2)# implement the formula for Euclidean Distance -> https://docs.scipy.org/doc/scipy/reference/generated/scipy.spatial.distance.euclidean.html#scipy.spatial.distance.euclidean\n",
    "            \n",
    "        if distance_name == 'Manhattan': # you can change this for other kinds of distances\n",
    "            distance = cityblock(x1, x2)# implement the formula for Manhattan Distance here\n",
    "        \n",
    "        return distance\n",
    "\n",
    "    def fit(self, X, y):\n",
    "        # Remember, you do not have to train a model for KNN, but mainly store the variables\n",
    "        self.X = X\n",
    "        self.y = y\n",
    "    \n",
    "    \n",
    "    def predict(self, x):\n",
    "        # For this exercise, we will do the prediction for a single instance.\n",
    "        # x here is just a single instance.\n",
    "        distances = []\n",
    "        # Complete this part of the code. \n",
    "        \n",
    "        # Step 1: You will compare the distance of x to each other instance in your training data.  \n",
    "        # Use the function implemented in _compute_distances\n",
    "        for training_x in self.X:\n",
    "            distances.append(self._compute_distance(x, training_x))\n",
    "            \n",
    "        #Step 2: Now that you have the distances, get the labels of each one of the k-nearest instances\n",
    "        # Hint: the class numpy.argsort returns the index of the sorted values, it might be useful here\n",
    "        ordered_indexes = np.argsort(distances)\n",
    "        \n",
    "        label_of_neighbors = []\n",
    "        for idx in ordered_indexes[:self.k]:  #from index 0 to index k-1\n",
    "            label_of_neighbors.append(self.y[idx])  #passing indexes idx to y\n",
    "        print(\"label of neighbors:\", label_of_neighbors)\n",
    "            \n",
    "        #Step 3: Make the prediction \n",
    "        if self.is_classification:\n",
    "            return Counter(label_of_neighbors).most_common(1)[0][0]# For classification, you will return the most common class among the nearest neighbors\n",
    "        else:\n",
    "            return # For regression, you will return the mean of the values of the nearest neighbors\n",
    "        "
   ]
  },
  {
   "cell_type": "code",
   "execution_count": null,
   "metadata": {},
   "outputs": [],
   "source": []
  }
 ],
 "metadata": {
  "kernelspec": {
   "display_name": "Python 3",
   "language": "python",
   "name": "python3"
  },
  "language_info": {
   "codemirror_mode": {
    "name": "ipython",
    "version": 3
   },
   "file_extension": ".py",
   "mimetype": "text/x-python",
   "name": "python",
   "nbconvert_exporter": "python",
   "pygments_lexer": "ipython3",
   "version": "3.8.3"
  }
 },
 "nbformat": 4,
 "nbformat_minor": 4
}
