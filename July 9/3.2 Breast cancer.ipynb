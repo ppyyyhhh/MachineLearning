{
 "cells": [
  {
   "cell_type": "code",
   "execution_count": 1,
   "metadata": {
    "ExecuteTime": {
     "end_time": "2020-07-10T02:07:58.417408Z",
     "start_time": "2020-07-10T02:07:58.407651Z"
    }
   },
   "outputs": [],
   "source": [
    "import numpy as np\n",
    "from sklearn.datasets import load_iris, load_breast_cancer\n",
    "from collections import Counter\n",
    "from scipy.spatial.distance import euclidean\n",
    "\n",
    "\n",
    "class KNN:\n",
    "\n",
    "    def __init__(self, k=3, is_classification=True, distance_name='Euclidean'): # __init__ is the constructor function in python.\n",
    "        # When, later on in your code, you create an object with \"variable = KNN(), this function is called\"\n",
    "        self.k = k\n",
    "        self.distance_name = distance_name\n",
    "        self.is_classification = is_classification\n",
    "\n",
    "        # initializing a variable to store the values of the X and y that will be fitted to the model.\n",
    "        # Remember: KNN does not have to train the model, just store their values. Use these variables to do that\n",
    "        self.X = None \n",
    "        self.y = None\n",
    "\n",
    "    def _compute_distance(self, x1, x2, distance_name='Euclidean'):\n",
    "        # Here you will implement your distance function ie. Euclidean distance.\n",
    "        if distance_name == 'Euclidean':\n",
    "            distance = euclidean(x1, x2)# implement the formula for Euclidean Distance -> https://docs.scipy.org/doc/scipy/reference/generated/scipy.spatial.distance.euclidean.html#scipy.spatial.distance.euclidean\n",
    "            \n",
    "#         if distance_name == 'Manhattan': # you can change this for other kinds of distances\n",
    "#             distance = # implement the formula for Manhattan Distance here\n",
    "        \n",
    "        return distance\n",
    "\n",
    "    def fit(self, X, y):\n",
    "        # Remember, you do not have to train a model for KNN, but mainly store the variables\n",
    "        self.X = X\n",
    "        self.y = y\n",
    "    \n",
    "    \n",
    "    def predict(self, x):\n",
    "        # For this exercise, we will do the prediction for a single instance.\n",
    "        # x here is just a single instance.\n",
    "        distances = []\n",
    "        # Complete this part of the code. \n",
    "        \n",
    "        # Step 1: You will compare the distance of x to each other instance in your training data.  \n",
    "        # Use the function implemented in _compute_distances\n",
    "        for training_instance in self.X:\n",
    "            distances.append(self._compute_distance(x, training_instance))\n",
    "            \n",
    "        #Step 2: Now that you have the distances, get the labels of each one of the k-nearest instances\n",
    "        # Hint: the class numpy.argsort returns the index of the sorted values, it might be useful here\n",
    "        ordered_indexes = np.argsort(distances)\n",
    "        \n",
    "        label_of_neighs = []\n",
    "        for idx in ordered_indexes[:self.k]:\n",
    "            label_of_neighs.append(self.y[idx])\n",
    "            \n",
    "        #Step 3: Make the prediction \n",
    "        if self.is_classification:\n",
    "            return Counter(label_of_neighs).most_common(1)[0][0]# For classification, you will return the most common class among the nearest neighbors\n",
    "        else:\n",
    "            return # For regression, you will return the mean of the values of the nearest neighbors\n",
    "        \n",
    "        "
   ]
  },
  {
   "cell_type": "code",
   "execution_count": 2,
   "metadata": {
    "ExecuteTime": {
     "end_time": "2020-07-10T02:07:58.830574Z",
     "start_time": "2020-07-10T02:07:58.817700Z"
    }
   },
   "outputs": [],
   "source": [
    "cancer = load_breast_cancer()\n",
    "X = cancer.data\n",
    "y = cancer.target"
   ]
  },
  {
   "cell_type": "code",
   "execution_count": 3,
   "metadata": {
    "ExecuteTime": {
     "end_time": "2020-07-10T02:07:59.083128Z",
     "start_time": "2020-07-10T02:07:59.075898Z"
    }
   },
   "outputs": [],
   "source": [
    "from sklearn.model_selection import train_test_split\n",
    "from sklearn.metrics import classification_report\n",
    "X_train, X_test, y_train, y_test = train_test_split(\n",
    "     X, y, test_size=0.33, random_state=42)\n",
    "\n",
    "knn = KNN(3)"
   ]
  },
  {
   "cell_type": "code",
   "execution_count": 7,
   "metadata": {},
   "outputs": [
    {
     "data": {
      "text/plain": [
       "array([[1.546e+01, 1.189e+01, 1.025e+02, ..., 1.827e-01, 3.216e-01,\n",
       "        1.010e-01],\n",
       "       [1.285e+01, 2.137e+01, 8.263e+01, ..., 5.601e-02, 2.488e-01,\n",
       "        8.151e-02],\n",
       "       [1.921e+01, 1.857e+01, 1.255e+02, ..., 2.091e-01, 3.537e-01,\n",
       "        8.294e-02],\n",
       "       ...,\n",
       "       [1.429e+01, 1.682e+01, 9.030e+01, ..., 3.333e-02, 2.458e-01,\n",
       "        6.120e-02],\n",
       "       [1.398e+01, 1.962e+01, 9.112e+01, ..., 1.827e-01, 3.179e-01,\n",
       "        1.055e-01],\n",
       "       [1.218e+01, 2.052e+01, 7.722e+01, ..., 7.431e-02, 2.694e-01,\n",
       "        6.878e-02]])"
      ]
     },
     "execution_count": 7,
     "metadata": {},
     "output_type": "execute_result"
    }
   ],
   "source": [
    "X_train"
   ]
  },
  {
   "cell_type": "code",
   "execution_count": 4,
   "metadata": {
    "ExecuteTime": {
     "end_time": "2020-07-10T02:07:59.344108Z",
     "start_time": "2020-07-10T02:07:59.340041Z"
    }
   },
   "outputs": [],
   "source": [
    "knn.fit(X_train, y_train)"
   ]
  },
  {
   "cell_type": "code",
   "execution_count": 5,
   "metadata": {
    "ExecuteTime": {
     "end_time": "2020-07-10T02:08:00.107713Z",
     "start_time": "2020-07-10T02:08:00.102208Z"
    }
   },
   "outputs": [
    {
     "data": {
      "text/plain": [
       "509.2318808536851"
      ]
     },
     "execution_count": 5,
     "metadata": {},
     "output_type": "execute_result"
    }
   ],
   "source": [
    "\n",
    "knn._compute_distance(X_train[0], X_train[1])"
   ]
  },
  {
   "cell_type": "code",
   "execution_count": 9,
   "metadata": {
    "ExecuteTime": {
     "end_time": "2020-07-10T02:08:01.112195Z",
     "start_time": "2020-07-10T02:08:01.104645Z"
    }
   },
   "outputs": [
    {
     "data": {
      "text/plain": [
       "0"
      ]
     },
     "execution_count": 9,
     "metadata": {},
     "output_type": "execute_result"
    }
   ],
   "source": [
    "knn.predict(X_train[0]) # test prediction"
   ]
  },
  {
   "cell_type": "code",
   "execution_count": 10,
   "metadata": {
    "ExecuteTime": {
     "end_time": "2020-07-10T02:08:07.196288Z",
     "start_time": "2020-07-10T02:08:07.089432Z"
    }
   },
   "outputs": [
    {
     "name": "stdout",
     "output_type": "stream",
     "text": [
      "              precision    recall  f1-score   support\n",
      "\n",
      "           0       0.91      0.93      0.92        67\n",
      "           1       0.96      0.95      0.95       121\n",
      "\n",
      "    accuracy                           0.94       188\n",
      "   macro avg       0.94      0.94      0.94       188\n",
      "weighted avg       0.94      0.94      0.94       188\n",
      "\n"
     ]
    }
   ],
   "source": [
    "y_pred = []\n",
    "# This code is running the prediction for each one of the instances in the test set.\n",
    "for instance in X_test:\n",
    "    y_pred.append(knn.predict(instance))\n",
    "\n",
    "print(classification_report(y_test, y_pred))"
   ]
  },
  {
   "cell_type": "code",
   "execution_count": null,
   "metadata": {},
   "outputs": [],
   "source": []
  }
 ],
 "metadata": {
  "kernelspec": {
   "display_name": "Python 3",
   "language": "python",
   "name": "python3"
  },
  "language_info": {
   "codemirror_mode": {
    "name": "ipython",
    "version": 3
   },
   "file_extension": ".py",
   "mimetype": "text/x-python",
   "name": "python",
   "nbconvert_exporter": "python",
   "pygments_lexer": "ipython3",
   "version": "3.8.3"
  }
 },
 "nbformat": 4,
 "nbformat_minor": 2
}
