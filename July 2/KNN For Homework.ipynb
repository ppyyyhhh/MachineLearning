{
 "cells": [
  {
   "cell_type": "code",
   "execution_count": null,
   "metadata": {
    "ExecuteTime": {
     "end_time": "2020-07-03T14:39:01.336491Z",
     "start_time": "2020-07-03T14:39:01.263870Z"
    }
   },
   "outputs": [],
   "source": [
    "import numpy as np\n",
    "from sklearn.datasets import load_iris\n",
    "from collections import Counter\n",
    "\n",
    "\n",
    "class KNN:\n",
    "\n",
    "    def __init__(self, k=3, is_classification=True, distance_name='Euclidean'): # __init__ is the constructor function in python.\n",
    "        # When, later on in your code, you create an object with \"variable = KNN(), this function is called\"\n",
    "        self.k = k\n",
    "        self.distance_name = distance_name\n",
    "        self.is_classification = is_classification\n",
    "\n",
    "        # initializing a variable to store the values of the X and y that will be fitted to the model.\n",
    "        # Remember: KNN does not have to train the model, just store their values. Use these variables to do that\n",
    "        self.X = None \n",
    "        self.y = None\n",
    "\n",
    "    def _compute_distance(self, x1, x2, distance_name='Euclidean Distance'):\n",
    "        # Here you will implement your distance function ie. Euclidean distance.\n",
    "        if distance_name == 'Euclidean':\n",
    "            distance = # implement the formula for Euclidean Distance -> https://docs.scipy.org/doc/scipy/reference/generated/scipy.spatial.distance.euclidean.html#scipy.spatial.distance.euclidean\n",
    "            \n",
    "        if distance_name == 'Manhattan': # you can change this for other kinds of distances\n",
    "            distance = # implement the formula for Manhattan Distance here\n",
    "        \n",
    "        return distance\n",
    "\n",
    "    def fit(self, X, y):\n",
    "        # Remember, you do not have to train a model for KNN, but mainly store the variables\n",
    "        self.X = \n",
    "        self.y =\n",
    "    \n",
    "    \n",
    "    def predict(self, x):\n",
    "        # For this exercise, we will do the prediction for a single instance.\n",
    "        # x here is just a single instance.\n",
    "        \n",
    "        distances = []\n",
    "        # Complete this part of the code. \n",
    "        \n",
    "        # Step 1: You will compare the distance of x to each other instance in your training data.  \n",
    "        # Use the function implemented in _compute_distances\n",
    "            \n",
    "        \n",
    "        #Step 2: Now that you have the distances, get the labels of each one of the k-nearest instances\n",
    "        # Hint: the class numpy.argsort returns the index of the sorted values, it might be useful here\n",
    "        \n",
    "        \n",
    "        \n",
    "        #Step 3: Make the prediction \n",
    "        if self.is_classification:\n",
    "            return # For classification, you will return the most common class among the nearest neighbors\n",
    "        else:\n",
    "            return # For regression, you will return the mean of the values of the nearest neighbors\n",
    "        \n",
    "        "
   ]
  },
  {
   "cell_type": "code",
   "execution_count": null,
   "metadata": {
    "ExecuteTime": {
     "end_time": "2020-06-28T16:51:35.905613Z",
     "start_time": "2020-06-28T16:51:35.900194Z"
    }
   },
   "outputs": [],
   "source": [
    "iris = load_iris()\n",
    "X = iris.data\n",
    "y = iris.target"
   ]
  },
  {
   "cell_type": "code",
   "execution_count": null,
   "metadata": {
    "ExecuteTime": {
     "end_time": "2020-06-28T16:51:36.072173Z",
     "start_time": "2020-06-28T16:51:36.067999Z"
    }
   },
   "outputs": [],
   "source": [
    "from sklearn.model_selection import train_test_split\n",
    "from sklearn.metrics import classification_report\n",
    "X_train, X_test, y_train, y_test = train_test_split(\n",
    "     X, y, test_size=0.33, random_state=42)\n",
    "\n",
    "knn = KNN(3)"
   ]
  },
  {
   "cell_type": "code",
   "execution_count": null,
   "metadata": {
    "ExecuteTime": {
     "end_time": "2020-06-28T16:51:36.991463Z",
     "start_time": "2020-06-28T16:51:36.988554Z"
    }
   },
   "outputs": [],
   "source": [
    "knn.fit(X_train, y_train)"
   ]
  },
  {
   "cell_type": "code",
   "execution_count": null,
   "metadata": {
    "ExecuteTime": {
     "end_time": "2020-06-28T16:51:46.177420Z",
     "start_time": "2020-06-28T16:51:46.145220Z"
    }
   },
   "outputs": [],
   "source": [
    "y_pred = []\n",
    "# This code is running the prediction for each one of the instances in the test set.\n",
    "for instance in X_test:\n",
    "    y_pred.append(knn.predict(instance))\n",
    "\n",
    "print(classification_report(y_test, y_pred))"
   ]
  }
 ],
 "metadata": {
  "kernelspec": {
   "display_name": "Python 3",
   "language": "python",
   "name": "python3"
  },
  "language_info": {
   "codemirror_mode": {
    "name": "ipython",
    "version": 3
   },
   "file_extension": ".py",
   "mimetype": "text/x-python",
   "name": "python",
   "nbconvert_exporter": "python",
   "pygments_lexer": "ipython3",
   "version": "3.8.3"
  }
 },
 "nbformat": 4,
 "nbformat_minor": 2
}
