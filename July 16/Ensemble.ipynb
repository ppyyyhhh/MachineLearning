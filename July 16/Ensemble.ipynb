{
 "cells": [
  {
   "cell_type": "code",
   "execution_count": null,
   "metadata": {
    "ExecuteTime": {
     "end_time": "2020-07-17T04:07:40.229818Z",
     "start_time": "2020-07-17T04:07:40.223206Z"
    }
   },
   "outputs": [],
   "source": [
    "import matplotlib.pyplot as plt\n",
    "from sklearn import datasets\n",
    "from sklearn.model_selection import train_test_split\n",
    "from sklearn.tree import DecisionTreeClassifier\n",
    "from sklearn.linear_model import LogisticRegression\n",
    "from sklearn.ensemble import RandomForestClassifier\n",
    "from sklearn.metrics import classification_report\n",
    "import math\n",
    "import pandas as pd\n",
    "from IPython.display import clear_output\n"
   ]
  },
  {
   "cell_type": "code",
   "execution_count": null,
   "metadata": {
    "ExecuteTime": {
     "end_time": "2020-07-17T03:49:57.144802Z",
     "start_time": "2020-07-17T03:49:57.137015Z"
    }
   },
   "outputs": [],
   "source": [
    "# import some data to play with\n",
    "iris = datasets.load_iris()\n",
    "X = iris.data[:, :2]  # we only take the first two features.\n",
    "y = iris.target\n",
    "\n",
    "X_train, X_test, y_train, y_test = train_test_split(X, y, test_size=0.33, random_state=42)"
   ]
  },
  {
   "cell_type": "code",
   "execution_count": null,
   "metadata": {
    "ExecuteTime": {
     "end_time": "2020-07-17T03:49:57.345948Z",
     "start_time": "2020-07-17T03:49:57.147456Z"
    }
   },
   "outputs": [],
   "source": [
    "def draw_points(X, y):\n",
    "    clear_output(wait=True)\n",
    "\n",
    "    x_min, x_max = X[:, 0].min() - .5, X[:, 0].max() + .5\n",
    "    y_min, y_max = X[:, 1].min() - .5, X[:, 1].max() + .5\n",
    "\n",
    "    plt.figure(2, figsize=(8, 6))\n",
    "    plt.clf()\n",
    "\n",
    "    # Plot the training points\n",
    "    plt.scatter(X[:, 0], X[:, 1], c=y, cmap=plt.cm.Set1,\n",
    "                edgecolor='k')\n",
    "    plt.xlabel('Sepal length')\n",
    "    plt.ylabel('Sepal width')\n",
    "\n",
    "    plt.xlim(x_min, x_max)\n",
    "    plt.ylim(y_min, y_max)\n",
    "    plt.xticks(())\n",
    "    plt.yticks(())\n",
    "    plt.show()\n",
    "\n",
    "draw_points(X_train, y_train)\n",
    "\n"
   ]
  },
  {
   "cell_type": "code",
   "execution_count": null,
   "metadata": {
    "ExecuteTime": {
     "end_time": "2020-07-17T03:49:57.362686Z",
     "start_time": "2020-07-17T03:49:57.349568Z"
    }
   },
   "outputs": [],
   "source": [
    "clf = DecisionTreeClassifier()\n",
    "\n",
    "clf.fit(X_train, y_train)\n",
    "print(classification_report(y_test, clf.predict(X_test)))"
   ]
  },
  {
   "cell_type": "code",
   "execution_count": null,
   "metadata": {
    "ExecuteTime": {
     "end_time": "2020-07-17T03:49:57.614036Z",
     "start_time": "2020-07-17T03:49:57.424905Z"
    },
    "code_folding": []
   },
   "outputs": [],
   "source": [
    "def sample_new_X_y(X,y, with_replacement=True):\n",
    "    # With replacement, it is bagging. Without replacement, pasting\n",
    "    X_sample = pd.DataFrame(X).sample(int(math.sqrt(len(X)) * 5), replace=with_replacement)\n",
    "    y_sample = y[X_sample.index]\n",
    "    return X_sample.to_numpy(), y_sample\n",
    "\n",
    "X_sample, y_sample = sample_new_X_y(X_train, y_train)\n",
    "\n",
    "draw_points(X_sample, y_sample)"
   ]
  },
  {
   "cell_type": "code",
   "execution_count": null,
   "metadata": {
    "ExecuteTime": {
     "end_time": "2020-07-17T03:50:19.701429Z",
     "start_time": "2020-07-17T03:49:58.215025Z"
    },
    "code_folding": []
   },
   "outputs": [],
   "source": [
    "import time\n",
    "from sklearn.metrics import f1_score\n",
    "\n",
    "\n",
    "def get_scores_and_clf_list(model=DecisionTreeClassifier, draw=True):\n",
    "    classifier_list = []\n",
    "    scores = []\n",
    "    for i in range(10):\n",
    "        current_classifier = model()\n",
    "        X_sample, y_sample = sample_new_X_y(X_train, y_train, False)\n",
    "        current_classifier.fit(X_sample, y_sample)\n",
    "\n",
    "        if draw: draw_points(X_sample, y_sample)\n",
    "        print(f\"Classifier number {i + 1}\")\n",
    "        y_pred = current_classifier.predict(X_test)\n",
    "        if draw: print(classification_report(y_test, y_pred))\n",
    "        scores.append(f1_score(y_test, y_pred, average='weighted'))\n",
    "        classifier_list.append((f\"Classifier number {i + 1}\", current_classifier))\n",
    "        if draw: time.sleep(2)\n",
    "    return scores, classifier_list\n",
    "\n",
    "scores, classifier_list= get_scores_and_clf_list(draw=True)\n",
    "    "
   ]
  },
  {
   "cell_type": "code",
   "execution_count": null,
   "metadata": {
    "ExecuteTime": {
     "end_time": "2020-07-17T03:50:19.711416Z",
     "start_time": "2020-07-17T03:50:19.704862Z"
    }
   },
   "outputs": [],
   "source": [
    "sum(scores)/len(scores)"
   ]
  },
  {
   "cell_type": "markdown",
   "metadata": {},
   "source": [
    "## Bagging and Pasting"
   ]
  },
  {
   "cell_type": "code",
   "execution_count": null,
   "metadata": {
    "ExecuteTime": {
     "end_time": "2020-07-17T03:50:19.815830Z",
     "start_time": "2020-07-17T03:50:19.715321Z"
    }
   },
   "outputs": [],
   "source": [
    "from collections import Counter\n",
    "\n",
    "y_pred = []\n",
    "for idx, label in enumerate(y_test):\n",
    "    instance = X_test[idx]\n",
    "    predictions = [clf[1].predict(instance.reshape(1, -1))[0] for clf in classifier_list]\n",
    "    y_pred.append(Counter(predictions).most_common()[0][0])\n",
    "    \n",
    "print(classification_report(y_test, y_pred))\n"
   ]
  },
  {
   "cell_type": "code",
   "execution_count": null,
   "metadata": {
    "ExecuteTime": {
     "end_time": "2020-07-17T03:50:19.924790Z",
     "start_time": "2020-07-17T03:50:19.819419Z"
    }
   },
   "outputs": [],
   "source": [
    "#Soft voting\n",
    "y_pred = []\n",
    "import numpy as np\n",
    "for idx, label in enumerate(y_test):\n",
    "    instance = X_test[idx]\n",
    "    predictions_prob = [clf[1].predict_proba(instance.reshape(1, -1))[0] for clf in classifier_list]\n",
    "    mean_probability = np.mean(np.vstack(predictions_prob), axis=0)\n",
    "\n",
    "    prediction = np.argmax(mean_probability)\n",
    "    if idx % 20 == 0:\n",
    "        print(f\"Prediction was {prediction} and probabilities were{mean_probability}\")\n",
    "    y_pred.append(prediction)\n",
    "    \n",
    "print(classification_report(y_test, y_pred))"
   ]
  },
  {
   "cell_type": "markdown",
   "metadata": {},
   "source": [
    "## Stacking"
   ]
  },
  {
   "cell_type": "code",
   "execution_count": null,
   "metadata": {
    "ExecuteTime": {
     "end_time": "2020-07-17T04:07:39.943502Z",
     "start_time": "2020-07-17T04:07:18.392947Z"
    }
   },
   "outputs": [],
   "source": [
    "scores, classifier_list= get_scores_and_clf_list(model=LogisticRegression, draw=True)\n"
   ]
  },
  {
   "cell_type": "code",
   "execution_count": null,
   "metadata": {
    "ExecuteTime": {
     "end_time": "2020-07-17T04:07:39.950743Z",
     "start_time": "2020-07-17T04:07:39.945456Z"
    }
   },
   "outputs": [],
   "source": [
    "sum(scores)/len(scores)"
   ]
  },
  {
   "cell_type": "code",
   "execution_count": null,
   "metadata": {
    "ExecuteTime": {
     "end_time": "2020-07-17T04:07:39.964284Z",
     "start_time": "2020-07-17T04:07:39.954259Z"
    }
   },
   "outputs": [],
   "source": [
    "import numpy as np\n",
    "\n",
    "def get_new_X_for_stacking(X, y):\n",
    "    new_X = []\n",
    "\n",
    "    for idx, label in enumerate(y):\n",
    "        instance = X[idx]\n",
    "        predictions = [clf[1].predict_proba(instance.reshape(1, -1))[0] for clf in classifier_list]\n",
    "        new_X.append(np.concatenate(predictions))\n",
    "    return new_X"
   ]
  },
  {
   "cell_type": "code",
   "execution_count": null,
   "metadata": {
    "ExecuteTime": {
     "end_time": "2020-07-17T04:07:40.127316Z",
     "start_time": "2020-07-17T04:07:39.969178Z"
    }
   },
   "outputs": [],
   "source": [
    "new_X_train = get_new_X_for_stacking(X_train, y_train)\n",
    "clf = DecisionTreeClassifier()\n",
    "clf.fit(new_X_train, y_train)"
   ]
  },
  {
   "cell_type": "code",
   "execution_count": null,
   "metadata": {
    "ExecuteTime": {
     "end_time": "2020-07-17T04:07:40.204494Z",
     "start_time": "2020-07-17T04:07:40.129766Z"
    }
   },
   "outputs": [],
   "source": [
    "y_pred = clf.predict(get_new_X_for_stacking(X_test, y_test))"
   ]
  },
  {
   "cell_type": "code",
   "execution_count": null,
   "metadata": {
    "ExecuteTime": {
     "end_time": "2020-07-17T04:07:40.219471Z",
     "start_time": "2020-07-17T04:07:40.205969Z"
    }
   },
   "outputs": [],
   "source": [
    "print(classification_report(y_test, y_pred))"
   ]
  },
  {
   "cell_type": "markdown",
   "metadata": {},
   "source": [
    "## Boosting"
   ]
  },
  {
   "cell_type": "code",
   "execution_count": null,
   "metadata": {
    "ExecuteTime": {
     "end_time": "2020-07-17T03:28:17.382438Z",
     "start_time": "2020-07-17T03:28:17.379420Z"
    }
   },
   "outputs": [],
   "source": [
    "from sklearn.datasets import load_boston"
   ]
  },
  {
   "cell_type": "code",
   "execution_count": null,
   "metadata": {
    "ExecuteTime": {
     "end_time": "2020-07-17T03:28:34.954161Z",
     "start_time": "2020-07-17T03:28:34.931263Z"
    }
   },
   "outputs": [],
   "source": [
    "boston = load_boston()"
   ]
  },
  {
   "cell_type": "code",
   "execution_count": null,
   "metadata": {
    "ExecuteTime": {
     "end_time": "2020-07-17T03:28:40.019104Z",
     "start_time": "2020-07-17T03:28:40.015777Z"
    }
   },
   "outputs": [],
   "source": [
    "X = boston.data"
   ]
  },
  {
   "cell_type": "code",
   "execution_count": null,
   "metadata": {
    "ExecuteTime": {
     "end_time": "2020-07-17T03:28:45.260205Z",
     "start_time": "2020-07-17T03:28:45.257415Z"
    }
   },
   "outputs": [],
   "source": [
    "y = boston.target"
   ]
  },
  {
   "cell_type": "code",
   "execution_count": null,
   "metadata": {
    "ExecuteTime": {
     "end_time": "2020-07-17T03:29:02.699335Z",
     "start_time": "2020-07-17T03:29:02.696310Z"
    }
   },
   "outputs": [],
   "source": [
    "from sklearn.model_selection import train_test_split"
   ]
  },
  {
   "cell_type": "code",
   "execution_count": null,
   "metadata": {
    "ExecuteTime": {
     "end_time": "2020-07-17T03:29:37.822734Z",
     "start_time": "2020-07-17T03:29:37.818664Z"
    }
   },
   "outputs": [],
   "source": [
    "X_train, X_test, y_train, y_test = train_test_split(X, y, test_size=0.3)"
   ]
  },
  {
   "cell_type": "code",
   "execution_count": null,
   "metadata": {
    "ExecuteTime": {
     "end_time": "2020-07-17T04:06:53.679812Z",
     "start_time": "2020-07-17T04:06:53.676862Z"
    }
   },
   "outputs": [],
   "source": [
    "from sklearn.linear_model import LinearRegression\n",
    "from sklearn.tree import DecisionTreeRegressor\n",
    "\n",
    "clf = DecisionTreeRegressor(max_depth=2)"
   ]
  },
  {
   "cell_type": "code",
   "execution_count": null,
   "metadata": {
    "ExecuteTime": {
     "end_time": "2020-07-17T04:06:54.209465Z",
     "start_time": "2020-07-17T04:06:54.203122Z"
    }
   },
   "outputs": [],
   "source": [
    "clf.fit(X_train, y_train)"
   ]
  },
  {
   "cell_type": "code",
   "execution_count": null,
   "metadata": {
    "ExecuteTime": {
     "end_time": "2020-07-17T04:06:54.509835Z",
     "start_time": "2020-07-17T04:06:54.506402Z"
    }
   },
   "outputs": [],
   "source": [
    "y_pred = clf.predict(X_test)"
   ]
  },
  {
   "cell_type": "code",
   "execution_count": null,
   "metadata": {
    "ExecuteTime": {
     "end_time": "2020-07-17T04:06:54.839648Z",
     "start_time": "2020-07-17T04:06:54.835550Z"
    }
   },
   "outputs": [],
   "source": [
    "from sklearn.metrics import mean_squared_error\n",
    "\n",
    "print(f\"MSE: {mean_squared_error(y_test, y_pred)}\")"
   ]
  },
  {
   "cell_type": "code",
   "execution_count": null,
   "metadata": {
    "ExecuteTime": {
     "end_time": "2020-07-17T04:06:55.119164Z",
     "start_time": "2020-07-17T04:06:55.115928Z"
    }
   },
   "outputs": [],
   "source": [
    "y_train_red = clf.predict(X_train)\n",
    "y_red = y_train - y_train_red"
   ]
  },
  {
   "cell_type": "code",
   "execution_count": null,
   "metadata": {
    "ExecuteTime": {
     "end_time": "2020-07-17T04:07:03.500136Z",
     "start_time": "2020-07-17T04:07:03.497515Z"
    }
   },
   "outputs": [],
   "source": [
    "clf2 = DecisionTreeRegressor(max_depth=2)"
   ]
  },
  {
   "cell_type": "code",
   "execution_count": null,
   "metadata": {
    "ExecuteTime": {
     "end_time": "2020-07-17T04:07:03.954315Z",
     "start_time": "2020-07-17T04:07:03.949091Z"
    }
   },
   "outputs": [],
   "source": [
    "clf2.fit(X_train, y_red)"
   ]
  },
  {
   "cell_type": "code",
   "execution_count": null,
   "metadata": {
    "ExecuteTime": {
     "end_time": "2020-07-17T04:07:04.286815Z",
     "start_time": "2020-07-17T04:07:04.283939Z"
    }
   },
   "outputs": [],
   "source": [
    "y_pred_red = clf2.predict(X_test)"
   ]
  },
  {
   "cell_type": "code",
   "execution_count": null,
   "metadata": {
    "ExecuteTime": {
     "end_time": "2020-07-17T04:07:04.570591Z",
     "start_time": "2020-07-17T04:07:04.567447Z"
    }
   },
   "outputs": [],
   "source": [
    "y_pred = clf.predict(X_test) + clf2.predict(X_test)"
   ]
  },
  {
   "cell_type": "code",
   "execution_count": null,
   "metadata": {
    "ExecuteTime": {
     "end_time": "2020-07-17T04:07:04.919518Z",
     "start_time": "2020-07-17T04:07:04.916169Z"
    }
   },
   "outputs": [],
   "source": [
    "print(f\"MSE: {mean_squared_error(y_test, y_pred)}\")"
   ]
  },
  {
   "cell_type": "code",
   "execution_count": null,
   "metadata": {
    "ExecuteTime": {
     "end_time": "2020-07-17T03:59:48.505072Z",
     "start_time": "2020-07-17T03:59:48.498615Z"
    }
   },
   "outputs": [],
   "source": []
  },
  {
   "cell_type": "code",
   "execution_count": null,
   "metadata": {},
   "outputs": [],
   "source": []
  }
 ],
 "metadata": {
  "kernelspec": {
   "display_name": "Python 3",
   "language": "python",
   "name": "python3"
  },
  "language_info": {
   "codemirror_mode": {
    "name": "ipython",
    "version": 3
   },
   "file_extension": ".py",
   "mimetype": "text/x-python",
   "name": "python",
   "nbconvert_exporter": "python",
   "pygments_lexer": "ipython3",
   "version": "3.8.3"
  }
 },
 "nbformat": 4,
 "nbformat_minor": 2
}
