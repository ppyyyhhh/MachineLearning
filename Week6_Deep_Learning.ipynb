{
  "nbformat": 4,
  "nbformat_minor": 0,
  "metadata": {
    "colab": {
      "name": "Week6 - Deep Learning",
      "provenance": [],
      "collapsed_sections": [],
      "include_colab_link": true
    },
    "kernelspec": {
      "name": "python3",
      "display_name": "Python 3"
    },
    "accelerator": "GPU"
  },
  "cells": [
    {
      "cell_type": "markdown",
      "metadata": {
        "id": "view-in-github",
        "colab_type": "text"
      },
      "source": [
        "<a href=\"https://colab.research.google.com/github/ppyyyhhh/MachineLearning/blob/master/Week6_Deep_Learning.ipynb\" target=\"_parent\"><img src=\"https://colab.research.google.com/assets/colab-badge.svg\" alt=\"Open In Colab\"/></a>"
      ]
    },
    {
      "cell_type": "code",
      "metadata": {
        "id": "CZ2I7ImtcZTL",
        "colab_type": "code",
        "colab": {
          "base_uri": "https://localhost:8080/",
          "height": 119
        },
        "outputId": "9b11b4d0-80c0-4385-864c-096be83a1320"
      },
      "source": [
        "!pip install -U keras"
      ],
      "execution_count": 1,
      "outputs": [
        {
          "output_type": "stream",
          "text": [
            "Requirement already up-to-date: keras in /usr/local/lib/python3.6/dist-packages (2.4.3)\n",
            "Requirement already satisfied, skipping upgrade: numpy>=1.9.1 in /usr/local/lib/python3.6/dist-packages (from keras) (1.18.5)\n",
            "Requirement already satisfied, skipping upgrade: scipy>=0.14 in /usr/local/lib/python3.6/dist-packages (from keras) (1.4.1)\n",
            "Requirement already satisfied, skipping upgrade: h5py in /usr/local/lib/python3.6/dist-packages (from keras) (2.10.0)\n",
            "Requirement already satisfied, skipping upgrade: pyyaml in /usr/local/lib/python3.6/dist-packages (from keras) (3.13)\n",
            "Requirement already satisfied, skipping upgrade: six in /usr/local/lib/python3.6/dist-packages (from h5py->keras) (1.15.0)\n"
          ],
          "name": "stdout"
        }
      ]
    },
    {
      "cell_type": "code",
      "metadata": {
        "id": "WKsj22xUL3md",
        "colab_type": "code",
        "colab": {}
      },
      "source": [
        "import tensorflow as tf\n",
        "from tensorflow import keras\n",
        "import matplotlib.pyplot as plt\n",
        "from sklearn.model_selection import train_test_split\n"
      ],
      "execution_count": 3,
      "outputs": []
    },
    {
      "cell_type": "code",
      "metadata": {
        "id": "GA6njh9xgzbm",
        "colab_type": "code",
        "colab": {}
      },
      "source": [
        "from sklearn.datasets import load_iris\n",
        "\n",
        "iris = load_iris()"
      ],
      "execution_count": 4,
      "outputs": []
    },
    {
      "cell_type": "code",
      "metadata": {
        "id": "k1cBel6ZgzeW",
        "colab_type": "code",
        "colab": {}
      },
      "source": [
        "logistic_regression = keras.models.Sequential()\n",
        "logistic_regression.add(keras.layers.Dense(3, activation='softmax'))\n"
      ],
      "execution_count": 5,
      "outputs": []
    },
    {
      "cell_type": "code",
      "metadata": {
        "id": "MGFeBFwOgzgt",
        "colab_type": "code",
        "colab": {}
      },
      "source": [
        "from keras.utils import np_utils \n",
        "\n",
        "X = iris.data\n",
        "y = iris.target\n",
        "\n",
        "y_one_hot = np_utils.to_categorical(y, 3)\n",
        "X_train, X_test, y_train, y_test = train_test_split(iris.data, y_one_hot, test_size=0.2, random_state=42)\n",
        "X_val, X_test, y_val, y_test = train_test_split(iris.data, y_one_hot, test_size=0.5, random_state=42)"
      ],
      "execution_count": 6,
      "outputs": []
    },
    {
      "cell_type": "code",
      "metadata": {
        "id": "zmbLNhCBgzjH",
        "colab_type": "code",
        "colab": {}
      },
      "source": [
        "logistic_regression.compile(optimizer='sgd', loss='categorical_crossentropy', metrics=['accuracy'])"
      ],
      "execution_count": 7,
      "outputs": []
    },
    {
      "cell_type": "code",
      "metadata": {
        "id": "FqaLYpUzgzoV",
        "colab_type": "code",
        "colab": {
          "base_uri": "https://localhost:8080/",
          "height": 1000
        },
        "outputId": "516d1439-f136-4a26-b2cb-ff9cbd2cfa17"
      },
      "source": [
        "history = logistic_regression.fit(X_train, y_train, epochs=100, validation_data=(X_val, y_val))"
      ],
      "execution_count": 8,
      "outputs": [
        {
          "output_type": "stream",
          "text": [
            "Epoch 1/100\n",
            "4/4 [==============================] - 0s 39ms/step - loss: 2.2149 - accuracy: 0.3417 - val_loss: 1.6265 - val_accuracy: 0.4400\n",
            "Epoch 2/100\n",
            "4/4 [==============================] - 0s 6ms/step - loss: 1.2614 - accuracy: 0.5833 - val_loss: 0.9495 - val_accuracy: 0.6267\n",
            "Epoch 3/100\n",
            "4/4 [==============================] - 0s 6ms/step - loss: 0.8041 - accuracy: 0.6667 - val_loss: 0.7302 - val_accuracy: 0.6267\n",
            "Epoch 4/100\n",
            "4/4 [==============================] - 0s 7ms/step - loss: 0.6827 - accuracy: 0.7250 - val_loss: 0.6788 - val_accuracy: 0.8667\n",
            "Epoch 5/100\n",
            "4/4 [==============================] - 0s 6ms/step - loss: 0.6499 - accuracy: 0.8583 - val_loss: 0.6675 - val_accuracy: 0.8800\n",
            "Epoch 6/100\n",
            "4/4 [==============================] - 0s 6ms/step - loss: 0.6379 - accuracy: 0.8750 - val_loss: 0.6588 - val_accuracy: 0.8533\n",
            "Epoch 7/100\n",
            "4/4 [==============================] - 0s 6ms/step - loss: 0.6321 - accuracy: 0.8833 - val_loss: 0.6524 - val_accuracy: 0.8000\n",
            "Epoch 8/100\n",
            "4/4 [==============================] - 0s 6ms/step - loss: 0.6258 - accuracy: 0.8167 - val_loss: 0.6477 - val_accuracy: 0.8267\n",
            "Epoch 9/100\n",
            "4/4 [==============================] - 0s 6ms/step - loss: 0.6196 - accuracy: 0.8250 - val_loss: 0.6431 - val_accuracy: 0.8267\n",
            "Epoch 10/100\n",
            "4/4 [==============================] - 0s 6ms/step - loss: 0.6147 - accuracy: 0.8333 - val_loss: 0.6390 - val_accuracy: 0.8533\n",
            "Epoch 11/100\n",
            "4/4 [==============================] - 0s 7ms/step - loss: 0.6108 - accuracy: 0.8500 - val_loss: 0.6346 - val_accuracy: 0.8267\n",
            "Epoch 12/100\n",
            "4/4 [==============================] - 0s 6ms/step - loss: 0.6069 - accuracy: 0.8417 - val_loss: 0.6306 - val_accuracy: 0.8533\n",
            "Epoch 13/100\n",
            "4/4 [==============================] - 0s 6ms/step - loss: 0.6026 - accuracy: 0.8750 - val_loss: 0.6264 - val_accuracy: 0.8000\n",
            "Epoch 14/100\n",
            "4/4 [==============================] - 0s 6ms/step - loss: 0.6001 - accuracy: 0.7833 - val_loss: 0.6236 - val_accuracy: 0.8667\n",
            "Epoch 15/100\n",
            "4/4 [==============================] - 0s 6ms/step - loss: 0.5956 - accuracy: 0.8417 - val_loss: 0.6197 - val_accuracy: 0.8533\n",
            "Epoch 16/100\n",
            "4/4 [==============================] - 0s 6ms/step - loss: 0.5925 - accuracy: 0.8167 - val_loss: 0.6169 - val_accuracy: 0.8800\n",
            "Epoch 17/100\n",
            "4/4 [==============================] - 0s 6ms/step - loss: 0.5895 - accuracy: 0.8500 - val_loss: 0.6125 - val_accuracy: 0.8533\n",
            "Epoch 18/100\n",
            "4/4 [==============================] - 0s 7ms/step - loss: 0.5831 - accuracy: 0.8667 - val_loss: 0.6088 - val_accuracy: 0.8533\n",
            "Epoch 19/100\n",
            "4/4 [==============================] - 0s 6ms/step - loss: 0.5818 - accuracy: 0.8417 - val_loss: 0.6055 - val_accuracy: 0.8533\n",
            "Epoch 20/100\n",
            "4/4 [==============================] - 0s 6ms/step - loss: 0.5770 - accuracy: 0.8750 - val_loss: 0.6022 - val_accuracy: 0.8267\n",
            "Epoch 21/100\n",
            "4/4 [==============================] - 0s 6ms/step - loss: 0.5744 - accuracy: 0.8417 - val_loss: 0.5990 - val_accuracy: 0.8000\n",
            "Epoch 22/100\n",
            "4/4 [==============================] - 0s 7ms/step - loss: 0.5726 - accuracy: 0.8500 - val_loss: 0.5960 - val_accuracy: 0.8267\n",
            "Epoch 23/100\n",
            "4/4 [==============================] - 0s 7ms/step - loss: 0.5664 - accuracy: 0.8333 - val_loss: 0.5932 - val_accuracy: 0.8533\n",
            "Epoch 24/100\n",
            "4/4 [==============================] - 0s 6ms/step - loss: 0.5636 - accuracy: 0.8667 - val_loss: 0.5902 - val_accuracy: 0.8533\n",
            "Epoch 25/100\n",
            "4/4 [==============================] - 0s 6ms/step - loss: 0.5627 - accuracy: 0.8417 - val_loss: 0.5877 - val_accuracy: 0.8533\n",
            "Epoch 26/100\n",
            "4/4 [==============================] - 0s 7ms/step - loss: 0.5591 - accuracy: 0.8667 - val_loss: 0.5848 - val_accuracy: 0.8533\n",
            "Epoch 27/100\n",
            "4/4 [==============================] - 0s 6ms/step - loss: 0.5549 - accuracy: 0.8667 - val_loss: 0.5820 - val_accuracy: 0.8533\n",
            "Epoch 28/100\n",
            "4/4 [==============================] - 0s 6ms/step - loss: 0.5525 - accuracy: 0.8667 - val_loss: 0.5793 - val_accuracy: 0.8533\n",
            "Epoch 29/100\n",
            "4/4 [==============================] - 0s 6ms/step - loss: 0.5507 - accuracy: 0.8500 - val_loss: 0.5769 - val_accuracy: 0.8533\n",
            "Epoch 30/100\n",
            "4/4 [==============================] - 0s 6ms/step - loss: 0.5480 - accuracy: 0.8583 - val_loss: 0.5743 - val_accuracy: 0.8533\n",
            "Epoch 31/100\n",
            "4/4 [==============================] - 0s 6ms/step - loss: 0.5450 - accuracy: 0.8667 - val_loss: 0.5718 - val_accuracy: 0.8533\n",
            "Epoch 32/100\n",
            "4/4 [==============================] - 0s 6ms/step - loss: 0.5416 - accuracy: 0.8583 - val_loss: 0.5695 - val_accuracy: 0.8533\n",
            "Epoch 33/100\n",
            "4/4 [==============================] - 0s 8ms/step - loss: 0.5416 - accuracy: 0.8667 - val_loss: 0.5679 - val_accuracy: 0.8800\n",
            "Epoch 34/100\n",
            "4/4 [==============================] - 0s 6ms/step - loss: 0.5375 - accuracy: 0.9083 - val_loss: 0.5647 - val_accuracy: 0.8533\n",
            "Epoch 35/100\n",
            "4/4 [==============================] - 0s 6ms/step - loss: 0.5374 - accuracy: 0.9083 - val_loss: 0.5632 - val_accuracy: 0.8000\n",
            "Epoch 36/100\n",
            "4/4 [==============================] - 0s 6ms/step - loss: 0.5370 - accuracy: 0.8500 - val_loss: 0.5607 - val_accuracy: 0.8133\n",
            "Epoch 37/100\n",
            "4/4 [==============================] - 0s 7ms/step - loss: 0.5321 - accuracy: 0.8417 - val_loss: 0.5580 - val_accuracy: 0.8667\n",
            "Epoch 38/100\n",
            "4/4 [==============================] - 0s 6ms/step - loss: 0.5302 - accuracy: 0.8583 - val_loss: 0.5560 - val_accuracy: 0.8667\n",
            "Epoch 39/100\n",
            "4/4 [==============================] - 0s 6ms/step - loss: 0.5293 - accuracy: 0.8917 - val_loss: 0.5546 - val_accuracy: 0.8133\n",
            "Epoch 40/100\n",
            "4/4 [==============================] - 0s 6ms/step - loss: 0.5253 - accuracy: 0.8667 - val_loss: 0.5520 - val_accuracy: 0.8133\n",
            "Epoch 41/100\n",
            "4/4 [==============================] - 0s 6ms/step - loss: 0.5218 - accuracy: 0.8667 - val_loss: 0.5496 - val_accuracy: 0.8667\n",
            "Epoch 42/100\n",
            "4/4 [==============================] - 0s 6ms/step - loss: 0.5215 - accuracy: 0.9000 - val_loss: 0.5477 - val_accuracy: 0.8667\n",
            "Epoch 43/100\n",
            "4/4 [==============================] - 0s 6ms/step - loss: 0.5186 - accuracy: 0.8583 - val_loss: 0.5463 - val_accuracy: 0.8933\n",
            "Epoch 44/100\n",
            "4/4 [==============================] - 0s 6ms/step - loss: 0.5223 - accuracy: 0.8417 - val_loss: 0.5451 - val_accuracy: 0.9200\n",
            "Epoch 45/100\n",
            "4/4 [==============================] - 0s 7ms/step - loss: 0.5164 - accuracy: 0.9000 - val_loss: 0.5419 - val_accuracy: 0.8667\n",
            "Epoch 46/100\n",
            "4/4 [==============================] - 0s 6ms/step - loss: 0.5123 - accuracy: 0.8583 - val_loss: 0.5404 - val_accuracy: 0.8933\n",
            "Epoch 47/100\n",
            "4/4 [==============================] - 0s 6ms/step - loss: 0.5232 - accuracy: 0.8833 - val_loss: 0.5385 - val_accuracy: 0.8933\n",
            "Epoch 48/100\n",
            "4/4 [==============================] - 0s 6ms/step - loss: 0.5129 - accuracy: 0.8583 - val_loss: 0.5402 - val_accuracy: 0.9067\n",
            "Epoch 49/100\n",
            "4/4 [==============================] - 0s 6ms/step - loss: 0.5128 - accuracy: 0.9167 - val_loss: 0.5346 - val_accuracy: 0.8667\n",
            "Epoch 50/100\n",
            "4/4 [==============================] - 0s 7ms/step - loss: 0.5076 - accuracy: 0.9083 - val_loss: 0.5335 - val_accuracy: 0.8133\n",
            "Epoch 51/100\n",
            "4/4 [==============================] - 0s 7ms/step - loss: 0.5038 - accuracy: 0.8500 - val_loss: 0.5316 - val_accuracy: 0.8267\n",
            "Epoch 52/100\n",
            "4/4 [==============================] - 0s 6ms/step - loss: 0.5020 - accuracy: 0.8500 - val_loss: 0.5297 - val_accuracy: 0.8533\n",
            "Epoch 53/100\n",
            "4/4 [==============================] - 0s 6ms/step - loss: 0.4991 - accuracy: 0.8667 - val_loss: 0.5277 - val_accuracy: 0.8667\n",
            "Epoch 54/100\n",
            "4/4 [==============================] - 0s 7ms/step - loss: 0.4976 - accuracy: 0.8833 - val_loss: 0.5263 - val_accuracy: 0.8933\n",
            "Epoch 55/100\n",
            "4/4 [==============================] - 0s 6ms/step - loss: 0.4976 - accuracy: 0.9083 - val_loss: 0.5245 - val_accuracy: 0.8800\n",
            "Epoch 56/100\n",
            "4/4 [==============================] - 0s 7ms/step - loss: 0.4952 - accuracy: 0.9333 - val_loss: 0.5232 - val_accuracy: 0.8667\n",
            "Epoch 57/100\n",
            "4/4 [==============================] - 0s 6ms/step - loss: 0.4950 - accuracy: 0.9083 - val_loss: 0.5216 - val_accuracy: 0.8667\n",
            "Epoch 58/100\n",
            "4/4 [==============================] - 0s 6ms/step - loss: 0.4915 - accuracy: 0.8750 - val_loss: 0.5200 - val_accuracy: 0.8933\n",
            "Epoch 59/100\n",
            "4/4 [==============================] - 0s 6ms/step - loss: 0.4897 - accuracy: 0.8917 - val_loss: 0.5186 - val_accuracy: 0.8933\n",
            "Epoch 60/100\n",
            "4/4 [==============================] - 0s 6ms/step - loss: 0.4883 - accuracy: 0.9167 - val_loss: 0.5169 - val_accuracy: 0.8800\n",
            "Epoch 61/100\n",
            "4/4 [==============================] - 0s 7ms/step - loss: 0.4866 - accuracy: 0.9000 - val_loss: 0.5153 - val_accuracy: 0.8800\n",
            "Epoch 62/100\n",
            "4/4 [==============================] - 0s 7ms/step - loss: 0.4863 - accuracy: 0.9000 - val_loss: 0.5139 - val_accuracy: 0.8800\n",
            "Epoch 63/100\n",
            "4/4 [==============================] - 0s 6ms/step - loss: 0.4852 - accuracy: 0.9250 - val_loss: 0.5128 - val_accuracy: 0.8667\n",
            "Epoch 64/100\n",
            "4/4 [==============================] - 0s 6ms/step - loss: 0.4831 - accuracy: 0.8917 - val_loss: 0.5111 - val_accuracy: 0.8800\n",
            "Epoch 65/100\n",
            "4/4 [==============================] - 0s 6ms/step - loss: 0.4824 - accuracy: 0.9000 - val_loss: 0.5097 - val_accuracy: 0.8933\n",
            "Epoch 66/100\n",
            "4/4 [==============================] - 0s 8ms/step - loss: 0.4798 - accuracy: 0.9167 - val_loss: 0.5085 - val_accuracy: 0.8667\n",
            "Epoch 67/100\n",
            "4/4 [==============================] - 0s 7ms/step - loss: 0.4831 - accuracy: 0.8833 - val_loss: 0.5071 - val_accuracy: 0.9067\n",
            "Epoch 68/100\n",
            "4/4 [==============================] - 0s 6ms/step - loss: 0.4801 - accuracy: 0.9083 - val_loss: 0.5059 - val_accuracy: 0.8667\n",
            "Epoch 69/100\n",
            "4/4 [==============================] - 0s 7ms/step - loss: 0.4772 - accuracy: 0.8917 - val_loss: 0.5042 - val_accuracy: 0.8933\n",
            "Epoch 70/100\n",
            "4/4 [==============================] - 0s 7ms/step - loss: 0.4755 - accuracy: 0.9417 - val_loss: 0.5028 - val_accuracy: 0.8933\n",
            "Epoch 71/100\n",
            "4/4 [==============================] - 0s 6ms/step - loss: 0.4733 - accuracy: 0.9000 - val_loss: 0.5019 - val_accuracy: 0.9067\n",
            "Epoch 72/100\n",
            "4/4 [==============================] - 0s 6ms/step - loss: 0.4737 - accuracy: 0.9333 - val_loss: 0.5003 - val_accuracy: 0.8800\n",
            "Epoch 73/100\n",
            "4/4 [==============================] - 0s 7ms/step - loss: 0.4736 - accuracy: 0.9000 - val_loss: 0.4998 - val_accuracy: 0.9200\n",
            "Epoch 74/100\n",
            "4/4 [==============================] - 0s 6ms/step - loss: 0.4690 - accuracy: 0.9333 - val_loss: 0.4980 - val_accuracy: 0.9200\n",
            "Epoch 75/100\n",
            "4/4 [==============================] - 0s 6ms/step - loss: 0.4677 - accuracy: 0.9000 - val_loss: 0.4970 - val_accuracy: 0.9200\n",
            "Epoch 76/100\n",
            "4/4 [==============================] - 0s 6ms/step - loss: 0.4662 - accuracy: 0.9333 - val_loss: 0.4956 - val_accuracy: 0.9200\n",
            "Epoch 77/100\n",
            "4/4 [==============================] - 0s 6ms/step - loss: 0.4649 - accuracy: 0.9250 - val_loss: 0.4946 - val_accuracy: 0.9200\n",
            "Epoch 78/100\n",
            "4/4 [==============================] - 0s 6ms/step - loss: 0.4648 - accuracy: 0.9500 - val_loss: 0.4928 - val_accuracy: 0.8800\n",
            "Epoch 79/100\n",
            "4/4 [==============================] - 0s 6ms/step - loss: 0.4634 - accuracy: 0.8833 - val_loss: 0.4920 - val_accuracy: 0.9200\n",
            "Epoch 80/100\n",
            "4/4 [==============================] - 0s 6ms/step - loss: 0.4614 - accuracy: 0.9500 - val_loss: 0.4903 - val_accuracy: 0.8933\n",
            "Epoch 81/100\n",
            "4/4 [==============================] - 0s 6ms/step - loss: 0.4616 - accuracy: 0.9083 - val_loss: 0.4892 - val_accuracy: 0.8933\n",
            "Epoch 82/100\n",
            "4/4 [==============================] - 0s 6ms/step - loss: 0.4601 - accuracy: 0.9083 - val_loss: 0.4881 - val_accuracy: 0.9067\n",
            "Epoch 83/100\n",
            "4/4 [==============================] - 0s 6ms/step - loss: 0.4580 - accuracy: 0.9500 - val_loss: 0.4870 - val_accuracy: 0.8800\n",
            "Epoch 84/100\n",
            "4/4 [==============================] - 0s 7ms/step - loss: 0.4610 - accuracy: 0.8667 - val_loss: 0.4858 - val_accuracy: 0.9067\n",
            "Epoch 85/100\n",
            "4/4 [==============================] - 0s 6ms/step - loss: 0.4559 - accuracy: 0.9250 - val_loss: 0.4847 - val_accuracy: 0.9067\n",
            "Epoch 86/100\n",
            "4/4 [==============================] - 0s 6ms/step - loss: 0.4548 - accuracy: 0.9250 - val_loss: 0.4836 - val_accuracy: 0.9200\n",
            "Epoch 87/100\n",
            "4/4 [==============================] - 0s 7ms/step - loss: 0.4546 - accuracy: 0.9083 - val_loss: 0.4830 - val_accuracy: 0.9333\n",
            "Epoch 88/100\n",
            "4/4 [==============================] - 0s 10ms/step - loss: 0.4531 - accuracy: 0.9250 - val_loss: 0.4819 - val_accuracy: 0.9333\n",
            "Epoch 89/100\n",
            "4/4 [==============================] - 0s 6ms/step - loss: 0.4531 - accuracy: 0.9500 - val_loss: 0.4806 - val_accuracy: 0.8800\n",
            "Epoch 90/100\n",
            "4/4 [==============================] - 0s 6ms/step - loss: 0.4511 - accuracy: 0.9167 - val_loss: 0.4793 - val_accuracy: 0.8800\n",
            "Epoch 91/100\n",
            "4/4 [==============================] - 0s 6ms/step - loss: 0.4550 - accuracy: 0.8917 - val_loss: 0.4780 - val_accuracy: 0.9067\n",
            "Epoch 92/100\n",
            "4/4 [==============================] - 0s 6ms/step - loss: 0.4499 - accuracy: 0.8750 - val_loss: 0.4786 - val_accuracy: 0.9467\n",
            "Epoch 93/100\n",
            "4/4 [==============================] - 0s 6ms/step - loss: 0.4474 - accuracy: 0.9333 - val_loss: 0.4769 - val_accuracy: 0.9467\n",
            "Epoch 94/100\n",
            "4/4 [==============================] - 0s 6ms/step - loss: 0.4479 - accuracy: 0.9583 - val_loss: 0.4750 - val_accuracy: 0.9200\n",
            "Epoch 95/100\n",
            "4/4 [==============================] - 0s 6ms/step - loss: 0.4452 - accuracy: 0.9333 - val_loss: 0.4740 - val_accuracy: 0.9200\n",
            "Epoch 96/100\n",
            "4/4 [==============================] - 0s 6ms/step - loss: 0.4439 - accuracy: 0.9333 - val_loss: 0.4730 - val_accuracy: 0.9200\n",
            "Epoch 97/100\n",
            "4/4 [==============================] - 0s 6ms/step - loss: 0.4468 - accuracy: 0.9167 - val_loss: 0.4724 - val_accuracy: 0.9333\n",
            "Epoch 98/100\n",
            "4/4 [==============================] - 0s 9ms/step - loss: 0.4437 - accuracy: 0.9333 - val_loss: 0.4708 - val_accuracy: 0.9067\n",
            "Epoch 99/100\n",
            "4/4 [==============================] - 0s 6ms/step - loss: 0.4424 - accuracy: 0.9167 - val_loss: 0.4710 - val_accuracy: 0.9467\n",
            "Epoch 100/100\n",
            "4/4 [==============================] - 0s 6ms/step - loss: 0.4446 - accuracy: 0.9500 - val_loss: 0.4689 - val_accuracy: 0.9200\n"
          ],
          "name": "stdout"
        }
      ]
    },
    {
      "cell_type": "code",
      "metadata": {
        "id": "mpr6yFhpgzsu",
        "colab_type": "code",
        "colab": {}
      },
      "source": [
        "import pandas as pd\n",
        "\n",
        "def plot_history(history):\n",
        "  pd.DataFrame(history.history)[['loss', 'val_loss']].plot()\n",
        "  plt.grid(True)\n",
        "  plt.show()"
      ],
      "execution_count": 9,
      "outputs": []
    },
    {
      "cell_type": "code",
      "metadata": {
        "id": "4ai37mQCgzrC",
        "colab_type": "code",
        "colab": {
          "base_uri": "https://localhost:8080/",
          "height": 265
        },
        "outputId": "51147588-d9a9-4b67-ddcc-453452f8124d"
      },
      "source": [
        "plot_history(history)"
      ],
      "execution_count": 10,
      "outputs": [
        {
          "output_type": "display_data",
          "data": {
            "image/png": "[encoded data removed]",
            "text/plain": [
              "<Figure size 432x288 with 1 Axes>"
            ]
          },
          "metadata": {
            "tags": [],
            "needs_background": "light"
          }
        }
      ]
    },
    {
      "cell_type": "code",
      "metadata": {
        "id": "zfVt61LngzmE",
        "colab_type": "code",
        "colab": {
          "base_uri": "https://localhost:8080/",
          "height": 88
        },
        "outputId": "a096731a-185f-4d96-9808-cbb8434e043e"
      },
      "source": [
        "y_pred = logistic_regression.predict_classes(X_test)"
      ],
      "execution_count": 11,
      "outputs": [
        {
          "output_type": "stream",
          "text": [
            "WARNING:tensorflow:From <ipython-input-11-b60fed288b11>:1: Sequential.predict_classes (from tensorflow.python.keras.engine.sequential) is deprecated and will be removed after 2021-01-01.\n",
            "Instructions for updating:\n",
            "Please use instead:* `np.argmax(model.predict(x), axis=-1)`,   if your model does multi-class classification   (e.g. if it uses a `softmax` last-layer activation).* `(model.predict(x) > 0.5).astype(\"int32\")`,   if your model does binary classification   (e.g. if it uses a `sigmoid` last-layer activation).\n"
          ],
          "name": "stdout"
        }
      ]
    },
    {
      "cell_type": "code",
      "metadata": {
        "id": "f-p0J-z5hJH8",
        "colab_type": "code",
        "colab": {
          "base_uri": "https://localhost:8080/",
          "height": 187
        },
        "outputId": "6718ed2a-8830-485c-9f87-7eca33ab80ef"
      },
      "source": [
        "from sklearn.metrics import classification_report\n",
        "import numpy as np\n",
        "\n",
        "y_test_classes = np.argmax(y_test, axis=1)\n",
        "print(classification_report(y_test_classes, y_pred))"
      ],
      "execution_count": 12,
      "outputs": [
        {
          "output_type": "stream",
          "text": [
            "              precision    recall  f1-score   support\n",
            "\n",
            "           0       1.00      1.00      1.00        29\n",
            "           1       1.00      0.91      0.95        23\n",
            "           2       0.92      1.00      0.96        23\n",
            "\n",
            "    accuracy                           0.97        75\n",
            "   macro avg       0.97      0.97      0.97        75\n",
            "weighted avg       0.98      0.97      0.97        75\n",
            "\n"
          ],
          "name": "stdout"
        }
      ]
    },
    {
      "cell_type": "code",
      "metadata": {
        "id": "WK409X14hJMY",
        "colab_type": "code",
        "colab": {}
      },
      "source": [
        ""
      ],
      "execution_count": null,
      "outputs": []
    },
    {
      "cell_type": "markdown",
      "metadata": {
        "id": "G8awbflbhPBq",
        "colab_type": "text"
      },
      "source": [
        "## Training an Image classifier"
      ]
    },
    {
      "cell_type": "code",
      "metadata": {
        "id": "mrQIzjqYMA6M",
        "colab_type": "code",
        "colab": {}
      },
      "source": [
        "fashion_mnist = keras.datasets.fashion_mnist"
      ],
      "execution_count": 13,
      "outputs": []
    },
    {
      "cell_type": "code",
      "metadata": {
        "id": "EjRXAdW7MC95",
        "colab_type": "code",
        "colab": {}
      },
      "source": [
        "(X_train, y_train), (X_test, y_test) = fashion_mnist.load_data()"
      ],
      "execution_count": 17,
      "outputs": []
    },
    {
      "cell_type": "code",
      "metadata": {
        "id": "9jZK05zUR7MI",
        "colab_type": "code",
        "colab": {}
      },
      "source": [
        "\n",
        "X_train, X_valid, y_train, y_valid = train_test_split(X_train, y_train, test_size=0.2, random_state=42)"
      ],
      "execution_count": 18,
      "outputs": []
    },
    {
      "cell_type": "code",
      "metadata": {
        "id": "EZOZm35aSPLE",
        "colab_type": "code",
        "colab": {}
      },
      "source": [
        "X_train = X_train / 255\n",
        "X_valid = X_valid / 255\n",
        "X_test = X_test / 255"
      ],
      "execution_count": 19,
      "outputs": []
    },
    {
      "cell_type": "code",
      "metadata": {
        "id": "-TCBjfFkSfoz",
        "colab_type": "code",
        "colab": {}
      },
      "source": [
        "classes = [\"T-shirt/top\",\"Trouser\",\"Pullover\",\"Dress\",\"Coat\",\"Sandal\",\"Shirt\",\"Sneaker\",\"Bag\",\"Ankle boot\"]"
      ],
      "execution_count": 20,
      "outputs": []
    },
    {
      "cell_type": "code",
      "metadata": {
        "id": "qobaJ2rUSiIV",
        "colab_type": "code",
        "colab": {
          "base_uri": "https://localhost:8080/",
          "height": 37
        },
        "outputId": "2ab93809-fa43-4041-e2ad-fa5cdf771482"
      },
      "source": [
        "classes[y_train[0]]"
      ],
      "execution_count": 21,
      "outputs": [
        {
          "output_type": "execute_result",
          "data": {
            "application/vnd.google.colaboratory.intrinsic+json": {
              "type": "string"
            },
            "text/plain": [
              "'Sneaker'"
            ]
          },
          "metadata": {
            "tags": []
          },
          "execution_count": 21
        }
      ]
    },
    {
      "cell_type": "code",
      "metadata": {
        "id": "pDk8PQsbTU0R",
        "colab_type": "code",
        "colab": {
          "base_uri": "https://localhost:8080/",
          "height": 282
        },
        "outputId": "5174b9fe-961c-46bf-fa8e-93bc9a78fbd6"
      },
      "source": [
        "plt.imshow(X_train[0])"
      ],
      "execution_count": 22,
      "outputs": [
        {
          "output_type": "execute_result",
          "data": {
            "text/plain": [
              "<matplotlib.image.AxesImage at 0x7f94ca027f60>"
            ]
          },
          "metadata": {
            "tags": []
          },
          "execution_count": 22
        },
        {
          "output_type": "display_data",
          "data": {
            "image/png": "[encoded data removed]",
            "text/plain": [
              "<Figure size 432x288 with 1 Axes>"
            ]
          },
          "metadata": {
            "tags": [],
            "needs_background": "light"
          }
        }
      ]
    },
    {
      "cell_type": "code",
      "metadata": {
        "id": "BUErJVBbFsYe",
        "colab_type": "code",
        "colab": {
          "base_uri": "https://localhost:8080/",
          "height": 34
        },
        "outputId": "df06286b-663d-495e-9076-18afe5c2e3b7"
      },
      "source": [
        "print(X_train.shape)"
      ],
      "execution_count": 23,
      "outputs": [
        {
          "output_type": "stream",
          "text": [
            "(48000, 28, 28)\n"
          ],
          "name": "stdout"
        }
      ]
    },
    {
      "cell_type": "code",
      "metadata": {
        "id": "dXnMJ1nNhY05",
        "colab_type": "code",
        "colab": {}
      },
      "source": [
        "# Parameters - this is for illustration purposes, ideally this would be in a dictionary that could be passed to a function\n",
        "# model parameters\n",
        "hidden_layer_sizes = [500, 200, 250, 700, 450, 600, 2000]\n",
        "hidden_layer_activations = ['relu'] * len(hidden_layer_sizes)\n",
        "dropout = [0.0] * len(hidden_layer_sizes)\n",
        "initializer = keras.initializers.GlorotNormal()\n",
        "\n",
        "number_of_classes = len(classes)\n",
        "\n",
        "# Training parameters\n",
        "opt = keras.optimizers.Adam(learning_rate=0.01)\n",
        "batch_size = 512\n",
        "epoch_n = 2000\n",
        "loss = 'sparse_categorical_crossentropy'\n"
      ],
      "execution_count": 41,
      "outputs": []
    },
    {
      "cell_type": "code",
      "metadata": {
        "id": "CvetGVunTgT6",
        "colab_type": "code",
        "colab": {}
      },
      "source": [
        "def create_model(layers, activations,n_classes, dropout, initializer=keras.initializers.RandomUniform()):\n",
        "\n",
        "  model = keras.models.Sequential()\n",
        "\n",
        "  model.add(keras.layers.Flatten(input_shape=[28, 28]))\n",
        "\n",
        "  for idx, layer in enumerate(layers):\n",
        "      model.add(keras.layers.Dense(layer, activation=activations[idx], kernel_initializer=initializer)) # create layer with size, activation function and initializer\n",
        "      if dropout[idx] > 0.0 and idx < len(layers) - 1: \n",
        "        model.add(keras.layers.Dropout(dropout[idx]))\n",
        "\n",
        "\n",
        "  model.add(keras.layers.Dense(n_classes, activation='softmax'))\n",
        "  return model"
      ],
      "execution_count": 42,
      "outputs": []
    },
    {
      "cell_type": "code",
      "metadata": {
        "id": "vSvmaeCUT-au",
        "colab_type": "code",
        "colab": {
          "base_uri": "https://localhost:8080/",
          "height": 459
        },
        "outputId": "d54f4a55-9136-4806-b58b-d52724600cf8"
      },
      "source": [
        "model = create_model(hidden_layer_sizes, hidden_layer_activations, len(classes), dropout, initializer)\n",
        "model.summary()"
      ],
      "execution_count": 43,
      "outputs": [
        {
          "output_type": "stream",
          "text": [
            "Model: \"sequential_5\"\n",
            "_________________________________________________________________\n",
            "Layer (type)                 Output Shape              Param #   \n",
            "=================================================================\n",
            "flatten_4 (Flatten)          (None, 784)               0         \n",
            "_________________________________________________________________\n",
            "dense_25 (Dense)             (None, 500)               392500    \n",
            "_________________________________________________________________\n",
            "dense_26 (Dense)             (None, 200)               100200    \n",
            "_________________________________________________________________\n",
            "dense_27 (Dense)             (None, 250)               50250     \n",
            "_________________________________________________________________\n",
            "dense_28 (Dense)             (None, 700)               175700    \n",
            "_________________________________________________________________\n",
            "dense_29 (Dense)             (None, 450)               315450    \n",
            "_________________________________________________________________\n",
            "dense_30 (Dense)             (None, 600)               270600    \n",
            "_________________________________________________________________\n",
            "dense_31 (Dense)             (None, 2000)              1202000   \n",
            "_________________________________________________________________\n",
            "dense_32 (Dense)             (None, 10)                20010     \n",
            "=================================================================\n",
            "Total params: 2,526,710\n",
            "Trainable params: 2,526,710\n",
            "Non-trainable params: 0\n",
            "_________________________________________________________________\n"
          ],
          "name": "stdout"
        }
      ]
    },
    {
      "cell_type": "code",
      "metadata": {
        "id": "Cpyz-giRUOA2",
        "colab_type": "code",
        "colab": {}
      },
      "source": [
        "def train_model(X_train, y_train, X_valid, y_valid, model, opt='sgd', batch_size=20, epochs=20, loss='sparse_categorical_crossentropy'):\n",
        "  model.compile(loss=loss, optimizer=opt, metrics=['accuracy'])\n",
        "  history = model.fit(X_train, y_train, epochs=epochs, validation_data=(X_valid, y_valid), batch_size=batch_size)\n",
        "  return model, history"
      ],
      "execution_count": 45,
      "outputs": []
    },
    {
      "cell_type": "markdown",
      "metadata": {
        "id": "9wHjUHVjjSVl",
        "colab_type": "text"
      },
      "source": [
        ""
      ]
    },
    {
      "cell_type": "code",
      "metadata": {
        "id": "kOtSrYGsUbZ4",
        "colab_type": "code",
        "colab": {
          "base_uri": "https://localhost:8080/",
          "height": 1000
        },
        "outputId": "ab855a59-dd7a-4b59-b9bf-cb4c440de8c2"
      },
      "source": [
        "model, history = train_model(X_train, y_train, X_valid, y_valid, model, opt=opt, batch_size=batch_size, epochs=epoch_n, loss=loss)"
      ],
      "execution_count": null,
      "outputs": [
        {
          "output_type": "stream",
          "text": [
            "Epoch 1/2000\n",
            "94/94 [==============================] - 1s 8ms/step - loss: 1.9743 - accuracy: 0.4801 - val_loss: 0.6522 - val_accuracy: 0.7562\n",
            "Epoch 2/2000\n",
            "94/94 [==============================] - 1s 6ms/step - loss: 0.6098 - accuracy: 0.7688 - val_loss: 0.5444 - val_accuracy: 0.8029\n",
            "Epoch 3/2000\n",
            "94/94 [==============================] - 1s 6ms/step - loss: 0.4961 - accuracy: 0.8190 - val_loss: 0.5282 - val_accuracy: 0.7992\n",
            "Epoch 4/2000\n",
            "94/94 [==============================] - 1s 6ms/step - loss: 0.4742 - accuracy: 0.8295 - val_loss: 0.4529 - val_accuracy: 0.8423\n",
            "Epoch 5/2000\n",
            "94/94 [==============================] - 1s 6ms/step - loss: 0.4248 - accuracy: 0.8476 - val_loss: 0.4748 - val_accuracy: 0.8285\n",
            "Epoch 6/2000\n",
            "94/94 [==============================] - 1s 6ms/step - loss: 0.4032 - accuracy: 0.8534 - val_loss: 0.4077 - val_accuracy: 0.8533\n",
            "Epoch 7/2000\n",
            "94/94 [==============================] - 1s 6ms/step - loss: 0.3873 - accuracy: 0.8626 - val_loss: 0.4145 - val_accuracy: 0.8538\n",
            "Epoch 8/2000\n",
            "94/94 [==============================] - 1s 6ms/step - loss: 0.3670 - accuracy: 0.8663 - val_loss: 0.3996 - val_accuracy: 0.8562\n",
            "Epoch 9/2000\n",
            "94/94 [==============================] - 1s 6ms/step - loss: 0.3588 - accuracy: 0.8701 - val_loss: 0.3979 - val_accuracy: 0.8564\n",
            "Epoch 10/2000\n",
            "94/94 [==============================] - 1s 6ms/step - loss: 0.3633 - accuracy: 0.8698 - val_loss: 0.4172 - val_accuracy: 0.8507\n",
            "Epoch 11/2000\n",
            "94/94 [==============================] - 1s 6ms/step - loss: 0.3502 - accuracy: 0.8728 - val_loss: 0.4085 - val_accuracy: 0.8546\n",
            "Epoch 12/2000\n",
            "94/94 [==============================] - 1s 6ms/step - loss: 0.3475 - accuracy: 0.8765 - val_loss: 0.3750 - val_accuracy: 0.8661\n",
            "Epoch 13/2000\n",
            "94/94 [==============================] - 1s 6ms/step - loss: 0.3447 - accuracy: 0.8770 - val_loss: 0.4000 - val_accuracy: 0.8541\n",
            "Epoch 14/2000\n",
            "94/94 [==============================] - 1s 6ms/step - loss: 0.3328 - accuracy: 0.8804 - val_loss: 0.3665 - val_accuracy: 0.8686\n",
            "Epoch 15/2000\n",
            "94/94 [==============================] - 1s 6ms/step - loss: 0.3200 - accuracy: 0.8849 - val_loss: 0.3766 - val_accuracy: 0.8718\n",
            "Epoch 16/2000\n",
            "94/94 [==============================] - 1s 6ms/step - loss: 0.3169 - accuracy: 0.8855 - val_loss: 0.3804 - val_accuracy: 0.8731\n",
            "Epoch 17/2000\n",
            "94/94 [==============================] - 1s 6ms/step - loss: 0.3129 - accuracy: 0.8870 - val_loss: 0.3746 - val_accuracy: 0.8716\n",
            "Epoch 18/2000\n",
            "94/94 [==============================] - 1s 6ms/step - loss: 0.3060 - accuracy: 0.8901 - val_loss: 0.3588 - val_accuracy: 0.8757\n",
            "Epoch 19/2000\n",
            "94/94 [==============================] - 1s 6ms/step - loss: 0.2969 - accuracy: 0.8934 - val_loss: 0.3721 - val_accuracy: 0.8699\n",
            "Epoch 20/2000\n",
            "94/94 [==============================] - 1s 6ms/step - loss: 0.2942 - accuracy: 0.8938 - val_loss: 0.3561 - val_accuracy: 0.8798\n",
            "Epoch 21/2000\n",
            "94/94 [==============================] - 1s 6ms/step - loss: 0.4355 - accuracy: 0.8573 - val_loss: 1.3950 - val_accuracy: 0.6018\n",
            "Epoch 22/2000\n",
            "94/94 [==============================] - 1s 6ms/step - loss: 1.6978 - accuracy: 0.3990 - val_loss: 1.7666 - val_accuracy: 0.2016\n",
            "Epoch 23/2000\n",
            "94/94 [==============================] - 1s 6ms/step - loss: 1.7322 - accuracy: 0.1991 - val_loss: 1.7070 - val_accuracy: 0.2005\n",
            "Epoch 24/2000\n",
            "94/94 [==============================] - 1s 6ms/step - loss: 1.7242 - accuracy: 0.1986 - val_loss: 1.7163 - val_accuracy: 0.1955\n",
            "Epoch 25/2000\n",
            "94/94 [==============================] - 1s 6ms/step - loss: 1.7075 - accuracy: 0.1978 - val_loss: 1.7119 - val_accuracy: 0.1995\n",
            "Epoch 26/2000\n",
            "94/94 [==============================] - 1s 6ms/step - loss: 1.7325 - accuracy: 0.1995 - val_loss: 1.7446 - val_accuracy: 0.1991\n",
            "Epoch 27/2000\n",
            "94/94 [==============================] - 1s 6ms/step - loss: 1.7145 - accuracy: 0.2014 - val_loss: 1.7099 - val_accuracy: 0.1979\n",
            "Epoch 28/2000\n",
            "94/94 [==============================] - 1s 6ms/step - loss: 1.7137 - accuracy: 0.1994 - val_loss: 1.7212 - val_accuracy: 0.2021\n",
            "Epoch 29/2000\n",
            "94/94 [==============================] - 1s 6ms/step - loss: 1.7101 - accuracy: 0.2015 - val_loss: 1.7099 - val_accuracy: 0.2013\n",
            "Epoch 30/2000\n",
            "94/94 [==============================] - 1s 6ms/step - loss: 1.7067 - accuracy: 0.1960 - val_loss: 1.7110 - val_accuracy: 0.2003\n",
            "Epoch 31/2000\n",
            "94/94 [==============================] - 1s 6ms/step - loss: 1.7052 - accuracy: 0.1984 - val_loss: 1.7065 - val_accuracy: 0.2007\n",
            "Epoch 32/2000\n",
            "94/94 [==============================] - 1s 6ms/step - loss: 1.7051 - accuracy: 0.1991 - val_loss: 1.7052 - val_accuracy: 0.2004\n",
            "Epoch 33/2000\n",
            "94/94 [==============================] - 1s 6ms/step - loss: 1.7068 - accuracy: 0.2010 - val_loss: 1.7209 - val_accuracy: 0.2017\n",
            "Epoch 34/2000\n",
            "94/94 [==============================] - 1s 6ms/step - loss: 1.7148 - accuracy: 0.2001 - val_loss: 1.7097 - val_accuracy: 0.2017\n",
            "Epoch 35/2000\n",
            "94/94 [==============================] - 1s 6ms/step - loss: 1.7063 - accuracy: 0.1981 - val_loss: 1.7082 - val_accuracy: 0.1953\n",
            "Epoch 36/2000\n",
            "94/94 [==============================] - 1s 6ms/step - loss: 1.7421 - accuracy: 0.1979 - val_loss: 1.7349 - val_accuracy: 0.1979\n",
            "Epoch 37/2000\n",
            "94/94 [==============================] - 1s 6ms/step - loss: 1.7191 - accuracy: 0.1941 - val_loss: 1.7215 - val_accuracy: 0.1981\n",
            "Epoch 38/2000\n",
            "94/94 [==============================] - 1s 6ms/step - loss: 1.7129 - accuracy: 0.1985 - val_loss: 1.7161 - val_accuracy: 0.1981\n",
            "Epoch 39/2000\n",
            "94/94 [==============================] - 1s 6ms/step - loss: 1.7110 - accuracy: 0.2007 - val_loss: 1.7123 - val_accuracy: 0.2001\n",
            "Epoch 40/2000\n",
            "94/94 [==============================] - 1s 6ms/step - loss: 1.7101 - accuracy: 0.2000 - val_loss: 1.7129 - val_accuracy: 0.2011\n",
            "Epoch 41/2000\n",
            "94/94 [==============================] - 1s 6ms/step - loss: 1.7075 - accuracy: 0.1996 - val_loss: 1.7092 - val_accuracy: 0.1967\n",
            "Epoch 42/2000\n",
            "94/94 [==============================] - 1s 6ms/step - loss: 1.7073 - accuracy: 0.1976 - val_loss: 1.7104 - val_accuracy: 0.1966\n",
            "Epoch 43/2000\n",
            "94/94 [==============================] - 1s 6ms/step - loss: 1.7063 - accuracy: 0.2001 - val_loss: 1.7095 - val_accuracy: 0.1949\n",
            "Epoch 44/2000\n",
            "94/94 [==============================] - 1s 6ms/step - loss: 1.7047 - accuracy: 0.2025 - val_loss: 1.7074 - val_accuracy: 0.1951\n",
            "Epoch 45/2000\n",
            "94/94 [==============================] - 1s 6ms/step - loss: 1.7038 - accuracy: 0.2010 - val_loss: 1.7044 - val_accuracy: 0.1995\n",
            "Epoch 46/2000\n",
            "94/94 [==============================] - 1s 6ms/step - loss: 1.7041 - accuracy: 0.1993 - val_loss: 1.7095 - val_accuracy: 0.1968\n",
            "Epoch 47/2000\n",
            "94/94 [==============================] - 1s 6ms/step - loss: 1.7054 - accuracy: 0.2009 - val_loss: 1.7057 - val_accuracy: 0.2016\n",
            "Epoch 48/2000\n",
            "94/94 [==============================] - 1s 5ms/step - loss: 1.7038 - accuracy: 0.1967 - val_loss: 1.7071 - val_accuracy: 0.1968\n",
            "Epoch 49/2000\n",
            "94/94 [==============================] - 1s 6ms/step - loss: 1.7034 - accuracy: 0.2018 - val_loss: 1.7045 - val_accuracy: 0.2007\n",
            "Epoch 50/2000\n",
            "94/94 [==============================] - 1s 6ms/step - loss: 1.7025 - accuracy: 0.1974 - val_loss: 1.7032 - val_accuracy: 0.1985\n",
            "Epoch 51/2000\n",
            "94/94 [==============================] - 1s 6ms/step - loss: 1.7021 - accuracy: 0.2016 - val_loss: 1.7085 - val_accuracy: 0.1979\n",
            "Epoch 52/2000\n",
            "94/94 [==============================] - 1s 6ms/step - loss: 1.7045 - accuracy: 0.2005 - val_loss: 1.7103 - val_accuracy: 0.1980\n",
            "Epoch 53/2000\n",
            "94/94 [==============================] - 1s 6ms/step - loss: 1.7039 - accuracy: 0.2032 - val_loss: 1.7029 - val_accuracy: 0.2019\n",
            "Epoch 54/2000\n",
            "94/94 [==============================] - 1s 6ms/step - loss: 1.7022 - accuracy: 0.2031 - val_loss: 1.7088 - val_accuracy: 0.1953\n",
            "Epoch 55/2000\n",
            "94/94 [==============================] - 1s 6ms/step - loss: 1.7180 - accuracy: 0.2004 - val_loss: 1.7046 - val_accuracy: 0.1988\n",
            "Epoch 56/2000\n",
            "94/94 [==============================] - 1s 6ms/step - loss: 1.7034 - accuracy: 0.1990 - val_loss: 1.7087 - val_accuracy: 0.2006\n",
            "Epoch 57/2000\n",
            "94/94 [==============================] - 1s 6ms/step - loss: 1.7045 - accuracy: 0.1975 - val_loss: 1.7209 - val_accuracy: 0.2008\n",
            "Epoch 58/2000\n",
            "94/94 [==============================] - 1s 6ms/step - loss: 1.7098 - accuracy: 0.1969 - val_loss: 1.7068 - val_accuracy: 0.1963\n",
            "Epoch 59/2000\n",
            "94/94 [==============================] - 1s 6ms/step - loss: 1.7188 - accuracy: 0.1976 - val_loss: 1.7073 - val_accuracy: 0.1992\n",
            "Epoch 60/2000\n",
            "94/94 [==============================] - 1s 6ms/step - loss: 1.7063 - accuracy: 0.2019 - val_loss: 1.7108 - val_accuracy: 0.1991\n",
            "Epoch 61/2000\n",
            "94/94 [==============================] - 1s 6ms/step - loss: 1.7050 - accuracy: 0.1990 - val_loss: 1.7133 - val_accuracy: 0.2004\n",
            "Epoch 62/2000\n",
            "94/94 [==============================] - 1s 6ms/step - loss: 1.7026 - accuracy: 0.1972 - val_loss: 1.7052 - val_accuracy: 0.2000\n",
            "Epoch 63/2000\n",
            "94/94 [==============================] - 1s 6ms/step - loss: 1.7034 - accuracy: 0.1963 - val_loss: 1.7055 - val_accuracy: 0.2007\n",
            "Epoch 64/2000\n",
            "94/94 [==============================] - 1s 6ms/step - loss: 1.7054 - accuracy: 0.1969 - val_loss: 1.7144 - val_accuracy: 0.1990\n",
            "Epoch 65/2000\n",
            "94/94 [==============================] - 1s 6ms/step - loss: 1.7037 - accuracy: 0.2001 - val_loss: 1.7035 - val_accuracy: 0.2026\n",
            "Epoch 66/2000\n",
            "94/94 [==============================] - 1s 6ms/step - loss: 1.7010 - accuracy: 0.1980 - val_loss: 1.7046 - val_accuracy: 0.2003\n",
            "Epoch 67/2000\n",
            "94/94 [==============================] - 1s 6ms/step - loss: 1.7017 - accuracy: 0.1988 - val_loss: 1.7103 - val_accuracy: 0.1964\n",
            "Epoch 68/2000\n",
            "94/94 [==============================] - 1s 6ms/step - loss: 1.7028 - accuracy: 0.1981 - val_loss: 1.7021 - val_accuracy: 0.1968\n",
            "Epoch 69/2000\n",
            "94/94 [==============================] - 1s 6ms/step - loss: 1.7002 - accuracy: 0.1991 - val_loss: 1.7001 - val_accuracy: 0.2019\n",
            "Epoch 70/2000\n",
            "94/94 [==============================] - 1s 6ms/step - loss: 1.6997 - accuracy: 0.1990 - val_loss: 1.7011 - val_accuracy: 0.2027\n",
            "Epoch 71/2000\n",
            "94/94 [==============================] - 1s 6ms/step - loss: 1.7871 - accuracy: 0.2086 - val_loss: 2.0626 - val_accuracy: 0.2471\n",
            "Epoch 72/2000\n",
            "94/94 [==============================] - 1s 6ms/step - loss: 2.6841 - accuracy: 0.2217 - val_loss: 1.3599 - val_accuracy: 0.3826\n",
            "Epoch 73/2000\n",
            "94/94 [==============================] - 1s 6ms/step - loss: 1.4282 - accuracy: 0.3786 - val_loss: 1.2411 - val_accuracy: 0.4316\n",
            "Epoch 74/2000\n",
            "94/94 [==============================] - 1s 6ms/step - loss: 1.1243 - accuracy: 0.4910 - val_loss: 1.0606 - val_accuracy: 0.5249\n",
            "Epoch 75/2000\n",
            "94/94 [==============================] - 1s 6ms/step - loss: 1.0529 - accuracy: 0.5312 - val_loss: 1.0120 - val_accuracy: 0.5529\n",
            "Epoch 76/2000\n",
            "94/94 [==============================] - 1s 6ms/step - loss: 1.0069 - accuracy: 0.5550 - val_loss: 0.9900 - val_accuracy: 0.5656\n",
            "Epoch 77/2000\n",
            "94/94 [==============================] - 1s 6ms/step - loss: 1.0191 - accuracy: 0.5600 - val_loss: 0.9902 - val_accuracy: 0.5662\n",
            "Epoch 78/2000\n",
            "94/94 [==============================] - 1s 6ms/step - loss: 0.9595 - accuracy: 0.5821 - val_loss: 0.9928 - val_accuracy: 0.5677\n",
            "Epoch 79/2000\n",
            "94/94 [==============================] - 1s 6ms/step - loss: 0.9547 - accuracy: 0.5830 - val_loss: 0.9429 - val_accuracy: 0.5867\n",
            "Epoch 80/2000\n",
            "94/94 [==============================] - 1s 6ms/step - loss: 0.9035 - accuracy: 0.5951 - val_loss: 0.9108 - val_accuracy: 0.5878\n",
            "Epoch 81/2000\n",
            "94/94 [==============================] - 1s 6ms/step - loss: 0.8993 - accuracy: 0.5994 - val_loss: 0.9176 - val_accuracy: 0.5953\n",
            "Epoch 82/2000\n",
            "94/94 [==============================] - 1s 6ms/step - loss: 1.0309 - accuracy: 0.6001 - val_loss: 1.0176 - val_accuracy: 0.6170\n",
            "Epoch 83/2000\n",
            "94/94 [==============================] - 1s 6ms/step - loss: 1.2746 - accuracy: 0.5435 - val_loss: 1.5179 - val_accuracy: 0.4716\n",
            "Epoch 84/2000\n",
            "94/94 [==============================] - 1s 6ms/step - loss: 1.5727 - accuracy: 0.4949 - val_loss: 1.1922 - val_accuracy: 0.5157\n",
            "Epoch 85/2000\n",
            "94/94 [==============================] - 1s 6ms/step - loss: 1.0468 - accuracy: 0.5864 - val_loss: 0.9876 - val_accuracy: 0.6127\n",
            "Epoch 86/2000\n",
            "94/94 [==============================] - 1s 6ms/step - loss: 0.9078 - accuracy: 0.6441 - val_loss: 0.8663 - val_accuracy: 0.6845\n",
            "Epoch 87/2000\n",
            "94/94 [==============================] - 1s 6ms/step - loss: 0.8090 - accuracy: 0.7064 - val_loss: 0.8316 - val_accuracy: 0.6918\n",
            "Epoch 88/2000\n",
            "94/94 [==============================] - 1s 6ms/step - loss: 0.7530 - accuracy: 0.7340 - val_loss: 0.7654 - val_accuracy: 0.7454\n",
            "Epoch 89/2000\n",
            "94/94 [==============================] - 1s 6ms/step - loss: 0.7254 - accuracy: 0.7460 - val_loss: 0.7501 - val_accuracy: 0.7433\n",
            "Epoch 90/2000\n",
            "94/94 [==============================] - 1s 6ms/step - loss: 0.7036 - accuracy: 0.7535 - val_loss: 0.7539 - val_accuracy: 0.7521\n",
            "Epoch 91/2000\n",
            "94/94 [==============================] - 1s 6ms/step - loss: 0.6801 - accuracy: 0.7664 - val_loss: 0.7179 - val_accuracy: 0.7664\n",
            "Epoch 92/2000\n",
            "94/94 [==============================] - 1s 6ms/step - loss: 0.6755 - accuracy: 0.7651 - val_loss: 0.7127 - val_accuracy: 0.7592\n",
            "Epoch 93/2000\n",
            "94/94 [==============================] - 1s 6ms/step - loss: 0.6709 - accuracy: 0.7667 - val_loss: 0.6935 - val_accuracy: 0.7633\n",
            "Epoch 94/2000\n",
            "94/94 [==============================] - 1s 6ms/step - loss: 0.6585 - accuracy: 0.7718 - val_loss: 0.6908 - val_accuracy: 0.7682\n",
            "Epoch 95/2000\n",
            "94/94 [==============================] - 1s 6ms/step - loss: 0.7316 - accuracy: 0.7445 - val_loss: 0.7521 - val_accuracy: 0.7331\n",
            "Epoch 96/2000\n",
            "94/94 [==============================] - 1s 6ms/step - loss: 0.6835 - accuracy: 0.7585 - val_loss: 0.7191 - val_accuracy: 0.7615\n",
            "Epoch 97/2000\n",
            "94/94 [==============================] - 1s 6ms/step - loss: 0.6513 - accuracy: 0.7716 - val_loss: 0.7567 - val_accuracy: 0.7264\n",
            "Epoch 98/2000\n",
            "94/94 [==============================] - 1s 6ms/step - loss: 0.6384 - accuracy: 0.7770 - val_loss: 0.6621 - val_accuracy: 0.7772\n",
            "Epoch 99/2000\n",
            "94/94 [==============================] - 1s 5ms/step - loss: 0.6252 - accuracy: 0.7836 - val_loss: 0.6861 - val_accuracy: 0.7813\n",
            "Epoch 100/2000\n",
            "94/94 [==============================] - 1s 6ms/step - loss: 0.7453 - accuracy: 0.7389 - val_loss: 0.9266 - val_accuracy: 0.6336\n",
            "Epoch 101/2000\n",
            "94/94 [==============================] - 1s 6ms/step - loss: 0.8162 - accuracy: 0.6812 - val_loss: 0.7705 - val_accuracy: 0.7058\n",
            "Epoch 102/2000\n",
            "94/94 [==============================] - 1s 6ms/step - loss: 0.7234 - accuracy: 0.7134 - val_loss: 0.7801 - val_accuracy: 0.6948\n",
            "Epoch 103/2000\n",
            "94/94 [==============================] - 1s 6ms/step - loss: 0.7117 - accuracy: 0.7165 - val_loss: 0.7484 - val_accuracy: 0.7016\n",
            "Epoch 104/2000\n",
            "94/94 [==============================] - 1s 6ms/step - loss: 0.6941 - accuracy: 0.7206 - val_loss: 0.7341 - val_accuracy: 0.7096\n",
            "Epoch 105/2000\n",
            "94/94 [==============================] - 1s 6ms/step - loss: 0.7500 - accuracy: 0.7084 - val_loss: 0.8975 - val_accuracy: 0.6543\n",
            "Epoch 106/2000\n",
            "94/94 [==============================] - 1s 6ms/step - loss: 0.7492 - accuracy: 0.7037 - val_loss: 0.7745 - val_accuracy: 0.7253\n",
            "Epoch 107/2000\n",
            "94/94 [==============================] - 1s 6ms/step - loss: 0.7129 - accuracy: 0.7362 - val_loss: 0.7201 - val_accuracy: 0.7447\n",
            "Epoch 108/2000\n",
            "94/94 [==============================] - 1s 6ms/step - loss: 0.6521 - accuracy: 0.7644 - val_loss: 0.6860 - val_accuracy: 0.7663\n",
            "Epoch 109/2000\n",
            "94/94 [==============================] - 1s 6ms/step - loss: 0.6373 - accuracy: 0.7751 - val_loss: 0.6810 - val_accuracy: 0.7642\n",
            "Epoch 110/2000\n",
            "94/94 [==============================] - 1s 6ms/step - loss: 0.6222 - accuracy: 0.7800 - val_loss: 0.7320 - val_accuracy: 0.7463\n",
            "Epoch 111/2000\n",
            "94/94 [==============================] - 1s 6ms/step - loss: 0.6162 - accuracy: 0.7834 - val_loss: 0.6585 - val_accuracy: 0.7731\n",
            "Epoch 112/2000\n",
            "94/94 [==============================] - 1s 6ms/step - loss: 0.5966 - accuracy: 0.7880 - val_loss: 0.6452 - val_accuracy: 0.7832\n",
            "Epoch 113/2000\n",
            "94/94 [==============================] - 1s 6ms/step - loss: 0.5880 - accuracy: 0.7911 - val_loss: 0.6461 - val_accuracy: 0.7857\n",
            "Epoch 114/2000\n",
            "94/94 [==============================] - 1s 6ms/step - loss: 0.5753 - accuracy: 0.7955 - val_loss: 0.6403 - val_accuracy: 0.7858\n",
            "Epoch 115/2000\n",
            "94/94 [==============================] - 1s 6ms/step - loss: 0.5715 - accuracy: 0.7986 - val_loss: 0.6286 - val_accuracy: 0.7832\n",
            "Epoch 116/2000\n",
            "94/94 [==============================] - 1s 6ms/step - loss: 0.5687 - accuracy: 0.7976 - val_loss: 0.6360 - val_accuracy: 0.7786\n",
            "Epoch 117/2000\n",
            "94/94 [==============================] - 1s 6ms/step - loss: 0.5600 - accuracy: 0.8015 - val_loss: 0.7174 - val_accuracy: 0.7651\n",
            "Epoch 118/2000\n",
            "94/94 [==============================] - 1s 6ms/step - loss: 0.5597 - accuracy: 0.7998 - val_loss: 0.6141 - val_accuracy: 0.7913\n",
            "Epoch 119/2000\n",
            "94/94 [==============================] - 1s 6ms/step - loss: 0.5525 - accuracy: 0.8008 - val_loss: 0.6193 - val_accuracy: 0.7846\n",
            "Epoch 120/2000\n",
            "94/94 [==============================] - 1s 6ms/step - loss: 0.5435 - accuracy: 0.8030 - val_loss: 0.6235 - val_accuracy: 0.7882\n",
            "Epoch 121/2000\n",
            "94/94 [==============================] - 1s 6ms/step - loss: 0.5353 - accuracy: 0.8058 - val_loss: 0.6120 - val_accuracy: 0.7888\n",
            "Epoch 122/2000\n",
            "94/94 [==============================] - 1s 6ms/step - loss: 0.5331 - accuracy: 0.8057 - val_loss: 0.6078 - val_accuracy: 0.7896\n",
            "Epoch 123/2000\n",
            "94/94 [==============================] - 1s 6ms/step - loss: 0.5251 - accuracy: 0.8083 - val_loss: 0.6092 - val_accuracy: 0.7961\n",
            "Epoch 124/2000\n",
            "94/94 [==============================] - 1s 6ms/step - loss: 0.5216 - accuracy: 0.8086 - val_loss: 0.5892 - val_accuracy: 0.7969\n",
            "Epoch 125/2000\n",
            "94/94 [==============================] - 1s 6ms/step - loss: 0.5224 - accuracy: 0.8095 - val_loss: 0.5952 - val_accuracy: 0.7918\n",
            "Epoch 126/2000\n",
            "94/94 [==============================] - 1s 6ms/step - loss: 0.5128 - accuracy: 0.8124 - val_loss: 0.5899 - val_accuracy: 0.7981\n",
            "Epoch 127/2000\n",
            "94/94 [==============================] - 1s 6ms/step - loss: 0.5599 - accuracy: 0.7984 - val_loss: 0.7273 - val_accuracy: 0.7435\n",
            "Epoch 128/2000\n",
            "94/94 [==============================] - 1s 6ms/step - loss: 0.5499 - accuracy: 0.8017 - val_loss: 0.5901 - val_accuracy: 0.8018\n",
            "Epoch 129/2000\n",
            "94/94 [==============================] - 1s 6ms/step - loss: 0.5149 - accuracy: 0.8125 - val_loss: 0.6045 - val_accuracy: 0.7855\n",
            "Epoch 130/2000\n",
            "94/94 [==============================] - 1s 6ms/step - loss: 0.5001 - accuracy: 0.8174 - val_loss: 0.5840 - val_accuracy: 0.7943\n",
            "Epoch 131/2000\n",
            "94/94 [==============================] - 1s 6ms/step - loss: 0.5344 - accuracy: 0.8067 - val_loss: 0.5829 - val_accuracy: 0.8002\n",
            "Epoch 132/2000\n",
            "94/94 [==============================] - 1s 6ms/step - loss: 0.5068 - accuracy: 0.8146 - val_loss: 0.5797 - val_accuracy: 0.7993\n",
            "Epoch 133/2000\n",
            "94/94 [==============================] - 1s 6ms/step - loss: 0.5059 - accuracy: 0.8162 - val_loss: 0.5597 - val_accuracy: 0.8059\n",
            "Epoch 134/2000\n",
            "94/94 [==============================] - 1s 6ms/step - loss: 0.4852 - accuracy: 0.8239 - val_loss: 0.5683 - val_accuracy: 0.8056\n",
            "Epoch 135/2000\n",
            "94/94 [==============================] - 1s 6ms/step - loss: 0.4730 - accuracy: 0.8269 - val_loss: 0.5614 - val_accuracy: 0.8023\n",
            "Epoch 136/2000\n",
            "94/94 [==============================] - 1s 6ms/step - loss: 0.4768 - accuracy: 0.8280 - val_loss: 0.5520 - val_accuracy: 0.8081\n",
            "Epoch 137/2000\n",
            "94/94 [==============================] - 1s 6ms/step - loss: 0.4695 - accuracy: 0.8309 - val_loss: 0.5576 - val_accuracy: 0.8100\n",
            "Epoch 138/2000\n",
            "94/94 [==============================] - 1s 6ms/step - loss: 0.4745 - accuracy: 0.8335 - val_loss: 0.5954 - val_accuracy: 0.8066\n",
            "Epoch 139/2000\n",
            "94/94 [==============================] - 1s 6ms/step - loss: 0.4632 - accuracy: 0.8374 - val_loss: 0.5450 - val_accuracy: 0.8225\n",
            "Epoch 140/2000\n",
            "94/94 [==============================] - 1s 6ms/step - loss: 0.4432 - accuracy: 0.8455 - val_loss: 0.5369 - val_accuracy: 0.8256\n",
            "Epoch 141/2000\n",
            "94/94 [==============================] - 1s 6ms/step - loss: 0.4957 - accuracy: 0.8288 - val_loss: 0.5574 - val_accuracy: 0.8302\n",
            "Epoch 142/2000\n",
            "94/94 [==============================] - 1s 6ms/step - loss: 0.4615 - accuracy: 0.8414 - val_loss: 0.5534 - val_accuracy: 0.8249\n",
            "Epoch 143/2000\n",
            "94/94 [==============================] - 1s 6ms/step - loss: 0.4572 - accuracy: 0.8414 - val_loss: 0.5552 - val_accuracy: 0.8223\n",
            "Epoch 144/2000\n",
            "94/94 [==============================] - 1s 6ms/step - loss: 0.4691 - accuracy: 0.8360 - val_loss: 0.5690 - val_accuracy: 0.8335\n",
            "Epoch 145/2000\n",
            "94/94 [==============================] - 1s 6ms/step - loss: 0.5199 - accuracy: 0.8179 - val_loss: 0.5424 - val_accuracy: 0.8244\n",
            "Epoch 146/2000\n",
            "94/94 [==============================] - 1s 6ms/step - loss: 0.4597 - accuracy: 0.8385 - val_loss: 0.5228 - val_accuracy: 0.8307\n",
            "Epoch 147/2000\n",
            "94/94 [==============================] - 1s 6ms/step - loss: 0.4390 - accuracy: 0.8460 - val_loss: 0.6201 - val_accuracy: 0.8008\n",
            "Epoch 148/2000\n",
            "94/94 [==============================] - 1s 6ms/step - loss: 0.4575 - accuracy: 0.8417 - val_loss: 0.5190 - val_accuracy: 0.8347\n",
            "Epoch 149/2000\n",
            "94/94 [==============================] - 1s 6ms/step - loss: 0.4304 - accuracy: 0.8494 - val_loss: 0.5370 - val_accuracy: 0.8307\n",
            "Epoch 150/2000\n",
            "94/94 [==============================] - 1s 6ms/step - loss: 0.4238 - accuracy: 0.8523 - val_loss: 0.5146 - val_accuracy: 0.8357\n",
            "Epoch 151/2000\n",
            "94/94 [==============================] - 1s 6ms/step - loss: 0.4139 - accuracy: 0.8550 - val_loss: 0.5233 - val_accuracy: 0.8395\n",
            "Epoch 152/2000\n",
            "94/94 [==============================] - 1s 6ms/step - loss: 0.4183 - accuracy: 0.8536 - val_loss: 0.5391 - val_accuracy: 0.8292\n",
            "Epoch 153/2000\n",
            "94/94 [==============================] - 1s 6ms/step - loss: 0.4229 - accuracy: 0.8528 - val_loss: 0.5181 - val_accuracy: 0.8372\n",
            "Epoch 154/2000\n",
            "94/94 [==============================] - 1s 6ms/step - loss: 0.4665 - accuracy: 0.8439 - val_loss: 0.5625 - val_accuracy: 0.8219\n",
            "Epoch 155/2000\n",
            "94/94 [==============================] - 1s 6ms/step - loss: 0.4326 - accuracy: 0.8510 - val_loss: 0.5378 - val_accuracy: 0.8365\n",
            "Epoch 156/2000\n",
            "94/94 [==============================] - 1s 6ms/step - loss: 0.4135 - accuracy: 0.8550 - val_loss: 0.5176 - val_accuracy: 0.8347\n",
            "Epoch 157/2000\n",
            "94/94 [==============================] - 1s 6ms/step - loss: 0.4049 - accuracy: 0.8590 - val_loss: 0.5159 - val_accuracy: 0.8361\n",
            "Epoch 158/2000\n",
            "94/94 [==============================] - 1s 6ms/step - loss: 0.4120 - accuracy: 0.8560 - val_loss: 0.5463 - val_accuracy: 0.8362\n",
            "Epoch 159/2000\n",
            "94/94 [==============================] - 1s 6ms/step - loss: 0.3988 - accuracy: 0.8622 - val_loss: 0.5116 - val_accuracy: 0.8465\n",
            "Epoch 160/2000\n",
            "94/94 [==============================] - 1s 6ms/step - loss: 0.3874 - accuracy: 0.8665 - val_loss: 0.5483 - val_accuracy: 0.8343\n",
            "Epoch 161/2000\n",
            "94/94 [==============================] - 1s 6ms/step - loss: 0.5438 - accuracy: 0.8429 - val_loss: 0.8379 - val_accuracy: 0.7274\n",
            "Epoch 162/2000\n",
            "94/94 [==============================] - 1s 6ms/step - loss: 0.5607 - accuracy: 0.8105 - val_loss: 0.6408 - val_accuracy: 0.7979\n",
            "Epoch 163/2000\n",
            "94/94 [==============================] - 1s 6ms/step - loss: 0.4729 - accuracy: 0.8358 - val_loss: 0.5554 - val_accuracy: 0.8183\n",
            "Epoch 164/2000\n",
            "94/94 [==============================] - 1s 6ms/step - loss: 0.4439 - accuracy: 0.8426 - val_loss: 0.5707 - val_accuracy: 0.8242\n",
            "Epoch 165/2000\n",
            "94/94 [==============================] - 1s 6ms/step - loss: 0.4300 - accuracy: 0.8480 - val_loss: 0.5410 - val_accuracy: 0.8277\n",
            "Epoch 166/2000\n",
            "94/94 [==============================] - 1s 6ms/step - loss: 0.4227 - accuracy: 0.8515 - val_loss: 0.5718 - val_accuracy: 0.8328\n",
            "Epoch 167/2000\n",
            "94/94 [==============================] - 1s 6ms/step - loss: 0.4248 - accuracy: 0.8512 - val_loss: 0.5522 - val_accuracy: 0.8276\n",
            "Epoch 168/2000\n",
            "94/94 [==============================] - 1s 6ms/step - loss: 0.4181 - accuracy: 0.8529 - val_loss: 0.5689 - val_accuracy: 0.8261\n",
            "Epoch 169/2000\n",
            "94/94 [==============================] - 1s 6ms/step - loss: 0.4187 - accuracy: 0.8514 - val_loss: 0.5431 - val_accuracy: 0.8361\n",
            "Epoch 170/2000\n",
            "94/94 [==============================] - 1s 6ms/step - loss: 0.4028 - accuracy: 0.8587 - val_loss: 0.5674 - val_accuracy: 0.8263\n",
            "Epoch 171/2000\n",
            "94/94 [==============================] - 1s 6ms/step - loss: 0.3981 - accuracy: 0.8592 - val_loss: 0.5396 - val_accuracy: 0.8367\n",
            "Epoch 172/2000\n",
            "94/94 [==============================] - 1s 6ms/step - loss: 0.3983 - accuracy: 0.8596 - val_loss: 0.5526 - val_accuracy: 0.8397\n",
            "Epoch 173/2000\n",
            "94/94 [==============================] - 1s 6ms/step - loss: 0.4020 - accuracy: 0.8580 - val_loss: 0.6060 - val_accuracy: 0.8294\n",
            "Epoch 174/2000\n",
            "94/94 [==============================] - 1s 6ms/step - loss: 0.4014 - accuracy: 0.8589 - val_loss: 0.5390 - val_accuracy: 0.8413\n",
            "Epoch 175/2000\n",
            "94/94 [==============================] - 1s 6ms/step - loss: 0.3913 - accuracy: 0.8620 - val_loss: 0.5344 - val_accuracy: 0.8349\n",
            "Epoch 176/2000\n",
            "94/94 [==============================] - 1s 6ms/step - loss: 0.3880 - accuracy: 0.8631 - val_loss: 0.5318 - val_accuracy: 0.8437\n",
            "Epoch 177/2000\n",
            "94/94 [==============================] - 1s 6ms/step - loss: 0.3830 - accuracy: 0.8648 - val_loss: 0.5124 - val_accuracy: 0.8440\n",
            "Epoch 178/2000\n",
            "94/94 [==============================] - 1s 6ms/step - loss: 0.3863 - accuracy: 0.8632 - val_loss: 0.5355 - val_accuracy: 0.8423\n",
            "Epoch 179/2000\n",
            "94/94 [==============================] - 1s 6ms/step - loss: 0.3777 - accuracy: 0.8668 - val_loss: 0.5268 - val_accuracy: 0.8353\n",
            "Epoch 180/2000\n",
            "94/94 [==============================] - 1s 6ms/step - loss: 0.3843 - accuracy: 0.8655 - val_loss: 0.5248 - val_accuracy: 0.8403\n",
            "Epoch 181/2000\n",
            "94/94 [==============================] - 1s 6ms/step - loss: 0.3721 - accuracy: 0.8686 - val_loss: 0.5361 - val_accuracy: 0.8400\n",
            "Epoch 182/2000\n",
            "94/94 [==============================] - 1s 6ms/step - loss: 0.3701 - accuracy: 0.8696 - val_loss: 0.5361 - val_accuracy: 0.8435\n",
            "Epoch 183/2000\n",
            "94/94 [==============================] - 1s 6ms/step - loss: 0.3662 - accuracy: 0.8703 - val_loss: 0.5602 - val_accuracy: 0.8508\n",
            "Epoch 184/2000\n",
            "94/94 [==============================] - 1s 6ms/step - loss: 0.3650 - accuracy: 0.8717 - val_loss: 0.5794 - val_accuracy: 0.8459\n",
            "Epoch 185/2000\n",
            "94/94 [==============================] - 1s 6ms/step - loss: 0.3984 - accuracy: 0.8608 - val_loss: 0.6132 - val_accuracy: 0.8287\n",
            "Epoch 186/2000\n",
            "94/94 [==============================] - 1s 6ms/step - loss: 0.3754 - accuracy: 0.8683 - val_loss: 0.5522 - val_accuracy: 0.8445\n",
            "Epoch 187/2000\n",
            "94/94 [==============================] - 1s 6ms/step - loss: 0.3713 - accuracy: 0.8705 - val_loss: 0.5475 - val_accuracy: 0.8438\n",
            "Epoch 188/2000\n",
            "94/94 [==============================] - 1s 6ms/step - loss: 0.3632 - accuracy: 0.8717 - val_loss: 0.5462 - val_accuracy: 0.8522\n",
            "Epoch 189/2000\n",
            "94/94 [==============================] - 1s 6ms/step - loss: 0.3514 - accuracy: 0.8747 - val_loss: 0.5944 - val_accuracy: 0.8472\n",
            "Epoch 190/2000\n",
            "94/94 [==============================] - 1s 6ms/step - loss: 0.3521 - accuracy: 0.8744 - val_loss: 0.5598 - val_accuracy: 0.8452\n",
            "Epoch 191/2000\n",
            "94/94 [==============================] - 1s 6ms/step - loss: 0.3737 - accuracy: 0.8716 - val_loss: 0.5698 - val_accuracy: 0.8436\n",
            "Epoch 192/2000\n",
            "94/94 [==============================] - 1s 6ms/step - loss: 0.3480 - accuracy: 0.8770 - val_loss: 0.5253 - val_accuracy: 0.8523\n",
            "Epoch 193/2000\n",
            "94/94 [==============================] - 1s 6ms/step - loss: 0.3513 - accuracy: 0.8761 - val_loss: 0.5476 - val_accuracy: 0.8378\n",
            "Epoch 194/2000\n",
            "94/94 [==============================] - 1s 6ms/step - loss: 0.3505 - accuracy: 0.8741 - val_loss: 0.5851 - val_accuracy: 0.8495\n",
            "Epoch 195/2000\n",
            "94/94 [==============================] - 1s 6ms/step - loss: 0.3538 - accuracy: 0.8757 - val_loss: 0.5409 - val_accuracy: 0.8547\n",
            "Epoch 196/2000\n",
            "94/94 [==============================] - 1s 6ms/step - loss: 0.3412 - accuracy: 0.8799 - val_loss: 0.5555 - val_accuracy: 0.8537\n",
            "Epoch 197/2000\n",
            "94/94 [==============================] - 1s 6ms/step - loss: 0.3426 - accuracy: 0.8795 - val_loss: 0.5394 - val_accuracy: 0.8521\n",
            "Epoch 198/2000\n",
            "94/94 [==============================] - 1s 6ms/step - loss: 0.3451 - accuracy: 0.8783 - val_loss: 0.5192 - val_accuracy: 0.8530\n",
            "Epoch 199/2000\n",
            "94/94 [==============================] - 1s 6ms/step - loss: 0.3512 - accuracy: 0.8747 - val_loss: 0.5323 - val_accuracy: 0.8509\n",
            "Epoch 200/2000\n",
            "94/94 [==============================] - 1s 6ms/step - loss: 0.3346 - accuracy: 0.8812 - val_loss: 0.5484 - val_accuracy: 0.8557\n",
            "Epoch 201/2000\n",
            "94/94 [==============================] - 1s 6ms/step - loss: 0.3565 - accuracy: 0.8735 - val_loss: 0.5403 - val_accuracy: 0.8542\n",
            "Epoch 202/2000\n",
            "94/94 [==============================] - 1s 6ms/step - loss: 0.3329 - accuracy: 0.8827 - val_loss: 0.5414 - val_accuracy: 0.8500\n",
            "Epoch 203/2000\n",
            "94/94 [==============================] - 1s 6ms/step - loss: 0.3415 - accuracy: 0.8788 - val_loss: 0.5212 - val_accuracy: 0.8564\n",
            "Epoch 204/2000\n",
            "94/94 [==============================] - 1s 6ms/step - loss: 0.3741 - accuracy: 0.8681 - val_loss: 0.5411 - val_accuracy: 0.8440\n",
            "Epoch 205/2000\n",
            "94/94 [==============================] - 1s 6ms/step - loss: 0.3374 - accuracy: 0.8789 - val_loss: 0.5736 - val_accuracy: 0.8503\n",
            "Epoch 206/2000\n",
            "94/94 [==============================] - 1s 6ms/step - loss: 0.3319 - accuracy: 0.8811 - val_loss: 0.5380 - val_accuracy: 0.8493\n",
            "Epoch 207/2000\n",
            "94/94 [==============================] - 1s 6ms/step - loss: 0.3335 - accuracy: 0.8830 - val_loss: 0.5002 - val_accuracy: 0.8576\n",
            "Epoch 208/2000\n",
            "94/94 [==============================] - 1s 6ms/step - loss: 0.3259 - accuracy: 0.8839 - val_loss: 0.6292 - val_accuracy: 0.8583\n",
            "Epoch 209/2000\n",
            "94/94 [==============================] - 1s 6ms/step - loss: 0.3587 - accuracy: 0.8751 - val_loss: 0.5502 - val_accuracy: 0.8484\n",
            "Epoch 210/2000\n",
            "94/94 [==============================] - 1s 6ms/step - loss: 0.3352 - accuracy: 0.8828 - val_loss: 0.5354 - val_accuracy: 0.8587\n",
            "Epoch 211/2000\n",
            "94/94 [==============================] - 1s 6ms/step - loss: 0.3344 - accuracy: 0.8824 - val_loss: 0.5419 - val_accuracy: 0.8517\n",
            "Epoch 212/2000\n",
            "94/94 [==============================] - 1s 6ms/step - loss: 0.3343 - accuracy: 0.8821 - val_loss: 0.5795 - val_accuracy: 0.8521\n",
            "Epoch 213/2000\n",
            "94/94 [==============================] - 1s 6ms/step - loss: 0.6328 - accuracy: 0.8344 - val_loss: 0.5512 - val_accuracy: 0.8190\n",
            "Epoch 214/2000\n",
            "94/94 [==============================] - 1s 6ms/step - loss: 0.4231 - accuracy: 0.8537 - val_loss: 0.4839 - val_accuracy: 0.8391\n",
            "Epoch 215/2000\n",
            "94/94 [==============================] - 1s 6ms/step - loss: 0.3777 - accuracy: 0.8669 - val_loss: 0.5053 - val_accuracy: 0.8393\n",
            "Epoch 216/2000\n",
            "94/94 [==============================] - 1s 6ms/step - loss: 0.3728 - accuracy: 0.8677 - val_loss: 0.4601 - val_accuracy: 0.8483\n",
            "Epoch 217/2000\n",
            "94/94 [==============================] - 1s 6ms/step - loss: 0.3543 - accuracy: 0.8743 - val_loss: 0.4550 - val_accuracy: 0.8454\n",
            "Epoch 218/2000\n",
            "94/94 [==============================] - 1s 6ms/step - loss: 0.3480 - accuracy: 0.8769 - val_loss: 0.4766 - val_accuracy: 0.8456\n",
            "Epoch 219/2000\n",
            "94/94 [==============================] - 1s 6ms/step - loss: 0.3430 - accuracy: 0.8781 - val_loss: 0.4404 - val_accuracy: 0.8572\n",
            "Epoch 220/2000\n",
            "94/94 [==============================] - 1s 6ms/step - loss: 0.3457 - accuracy: 0.8765 - val_loss: 0.4429 - val_accuracy: 0.8577\n",
            "Epoch 221/2000\n",
            "94/94 [==============================] - 1s 6ms/step - loss: 0.3294 - accuracy: 0.8842 - val_loss: 0.4361 - val_accuracy: 0.8593\n",
            "Epoch 222/2000\n",
            "94/94 [==============================] - 1s 6ms/step - loss: 0.3313 - accuracy: 0.8820 - val_loss: 0.4746 - val_accuracy: 0.8499\n",
            "Epoch 223/2000\n",
            "94/94 [==============================] - 1s 6ms/step - loss: 0.3263 - accuracy: 0.8837 - val_loss: 0.4469 - val_accuracy: 0.8569\n",
            "Epoch 224/2000\n",
            "94/94 [==============================] - 1s 6ms/step - loss: 0.3227 - accuracy: 0.8840 - val_loss: 0.4539 - val_accuracy: 0.8599\n",
            "Epoch 225/2000\n",
            "94/94 [==============================] - 1s 6ms/step - loss: 0.3349 - accuracy: 0.8823 - val_loss: 0.4361 - val_accuracy: 0.8561\n",
            "Epoch 226/2000\n",
            "94/94 [==============================] - 1s 6ms/step - loss: 0.3241 - accuracy: 0.8853 - val_loss: 0.4390 - val_accuracy: 0.8637\n",
            "Epoch 227/2000\n",
            "94/94 [==============================] - 1s 6ms/step - loss: 0.3207 - accuracy: 0.8854 - val_loss: 0.4503 - val_accuracy: 0.8572\n",
            "Epoch 228/2000\n",
            "94/94 [==============================] - 1s 6ms/step - loss: 0.3214 - accuracy: 0.8866 - val_loss: 0.4490 - val_accuracy: 0.8577\n",
            "Epoch 229/2000\n",
            "94/94 [==============================] - 1s 6ms/step - loss: 0.3169 - accuracy: 0.8879 - val_loss: 0.4528 - val_accuracy: 0.8571\n",
            "Epoch 230/2000\n",
            "94/94 [==============================] - 1s 6ms/step - loss: 0.4086 - accuracy: 0.8730 - val_loss: 0.5567 - val_accuracy: 0.8241\n",
            "Epoch 231/2000\n",
            "94/94 [==============================] - 1s 6ms/step - loss: 0.3963 - accuracy: 0.8599 - val_loss: 0.4651 - val_accuracy: 0.8526\n",
            "Epoch 232/2000\n",
            "94/94 [==============================] - 1s 6ms/step - loss: 0.3555 - accuracy: 0.8732 - val_loss: 0.4669 - val_accuracy: 0.8488\n",
            "Epoch 233/2000\n",
            "94/94 [==============================] - 1s 6ms/step - loss: 0.3423 - accuracy: 0.8778 - val_loss: 0.4669 - val_accuracy: 0.8556\n",
            "Epoch 234/2000\n",
            "94/94 [==============================] - 1s 6ms/step - loss: 0.3423 - accuracy: 0.8789 - val_loss: 0.4609 - val_accuracy: 0.8558\n",
            "Epoch 235/2000\n",
            "94/94 [==============================] - 1s 6ms/step - loss: 0.3290 - accuracy: 0.8850 - val_loss: 0.4443 - val_accuracy: 0.8600\n",
            "Epoch 236/2000\n",
            "94/94 [==============================] - 1s 6ms/step - loss: 0.3280 - accuracy: 0.8850 - val_loss: 0.4356 - val_accuracy: 0.8627\n",
            "Epoch 237/2000\n",
            "94/94 [==============================] - 1s 6ms/step - loss: 0.3306 - accuracy: 0.8829 - val_loss: 0.4409 - val_accuracy: 0.8589\n",
            "Epoch 238/2000\n",
            "94/94 [==============================] - 1s 6ms/step - loss: 0.3166 - accuracy: 0.8889 - val_loss: 0.4424 - val_accuracy: 0.8593\n",
            "Epoch 239/2000\n",
            "94/94 [==============================] - 1s 6ms/step - loss: 0.3123 - accuracy: 0.8891 - val_loss: 0.4409 - val_accuracy: 0.8648\n",
            "Epoch 240/2000\n",
            "94/94 [==============================] - 1s 5ms/step - loss: 0.3082 - accuracy: 0.8905 - val_loss: 0.4510 - val_accuracy: 0.8586\n",
            "Epoch 241/2000\n",
            "94/94 [==============================] - 1s 6ms/step - loss: 0.3088 - accuracy: 0.8907 - val_loss: 0.4449 - val_accuracy: 0.8633\n",
            "Epoch 242/2000\n",
            "94/94 [==============================] - 1s 6ms/step - loss: 0.3135 - accuracy: 0.8898 - val_loss: 0.4592 - val_accuracy: 0.8612\n",
            "Epoch 243/2000\n",
            "94/94 [==============================] - 1s 6ms/step - loss: 0.3037 - accuracy: 0.8933 - val_loss: 0.4424 - val_accuracy: 0.8637\n",
            "Epoch 244/2000\n",
            "94/94 [==============================] - 1s 6ms/step - loss: 0.3057 - accuracy: 0.8913 - val_loss: 0.4568 - val_accuracy: 0.8606\n",
            "Epoch 245/2000\n",
            "94/94 [==============================] - 1s 6ms/step - loss: 0.3088 - accuracy: 0.8899 - val_loss: 0.4374 - val_accuracy: 0.8633\n",
            "Epoch 246/2000\n",
            "94/94 [==============================] - 1s 6ms/step - loss: 0.3154 - accuracy: 0.8895 - val_loss: 0.4674 - val_accuracy: 0.8553\n",
            "Epoch 247/2000\n",
            "94/94 [==============================] - 1s 6ms/step - loss: 0.3076 - accuracy: 0.8919 - val_loss: 0.4463 - val_accuracy: 0.8651\n",
            "Epoch 248/2000\n",
            "94/94 [==============================] - 1s 6ms/step - loss: 0.3034 - accuracy: 0.8935 - val_loss: 0.4396 - val_accuracy: 0.8582\n",
            "Epoch 249/2000\n",
            "94/94 [==============================] - 1s 6ms/step - loss: 0.3102 - accuracy: 0.8912 - val_loss: 0.4478 - val_accuracy: 0.8653\n",
            "Epoch 250/2000\n",
            "94/94 [==============================] - 1s 6ms/step - loss: 0.3045 - accuracy: 0.8920 - val_loss: 0.4372 - val_accuracy: 0.8645\n",
            "Epoch 251/2000\n",
            "94/94 [==============================] - 1s 6ms/step - loss: 0.3014 - accuracy: 0.8936 - val_loss: 0.4404 - val_accuracy: 0.8655\n",
            "Epoch 252/2000\n",
            "94/94 [==============================] - 1s 6ms/step - loss: 0.3012 - accuracy: 0.8936 - val_loss: 0.4386 - val_accuracy: 0.8641\n",
            "Epoch 253/2000\n",
            "94/94 [==============================] - 1s 6ms/step - loss: 0.3039 - accuracy: 0.8935 - val_loss: 0.4877 - val_accuracy: 0.8612\n",
            "Epoch 254/2000\n",
            "94/94 [==============================] - 1s 6ms/step - loss: 0.3028 - accuracy: 0.8935 - val_loss: 0.4558 - val_accuracy: 0.8639\n",
            "Epoch 255/2000\n",
            "94/94 [==============================] - 1s 6ms/step - loss: 0.2947 - accuracy: 0.8971 - val_loss: 0.4620 - val_accuracy: 0.8626\n",
            "Epoch 256/2000\n",
            "94/94 [==============================] - 1s 6ms/step - loss: 0.3029 - accuracy: 0.8935 - val_loss: 0.4693 - val_accuracy: 0.8629\n",
            "Epoch 257/2000\n",
            "94/94 [==============================] - 1s 6ms/step - loss: 0.2975 - accuracy: 0.8952 - val_loss: 0.4560 - val_accuracy: 0.8556\n",
            "Epoch 258/2000\n",
            "94/94 [==============================] - 1s 6ms/step - loss: 0.3146 - accuracy: 0.8899 - val_loss: 0.4289 - val_accuracy: 0.8679\n",
            "Epoch 259/2000\n",
            "94/94 [==============================] - 1s 6ms/step - loss: 0.2995 - accuracy: 0.8950 - val_loss: 0.4357 - val_accuracy: 0.8692\n",
            "Epoch 260/2000\n",
            "94/94 [==============================] - 1s 6ms/step - loss: 0.3235 - accuracy: 0.8853 - val_loss: 0.4526 - val_accuracy: 0.8597\n",
            "Epoch 261/2000\n",
            "94/94 [==============================] - 1s 6ms/step - loss: 0.3084 - accuracy: 0.8909 - val_loss: 0.4751 - val_accuracy: 0.8531\n",
            "Epoch 262/2000\n",
            "94/94 [==============================] - 1s 6ms/step - loss: 0.2999 - accuracy: 0.8939 - val_loss: 0.4743 - val_accuracy: 0.8563\n",
            "Epoch 263/2000\n",
            "94/94 [==============================] - 1s 6ms/step - loss: 0.2963 - accuracy: 0.8956 - val_loss: 0.4408 - val_accuracy: 0.8645\n",
            "Epoch 264/2000\n",
            "94/94 [==============================] - 1s 6ms/step - loss: 0.2928 - accuracy: 0.8964 - val_loss: 0.4621 - val_accuracy: 0.8641\n",
            "Epoch 265/2000\n",
            "94/94 [==============================] - 1s 6ms/step - loss: 0.2920 - accuracy: 0.8970 - val_loss: 0.4583 - val_accuracy: 0.8594\n",
            "Epoch 266/2000\n",
            "94/94 [==============================] - 1s 6ms/step - loss: 0.2938 - accuracy: 0.8950 - val_loss: 0.4433 - val_accuracy: 0.8658\n",
            "Epoch 267/2000\n",
            "94/94 [==============================] - 1s 6ms/step - loss: 0.2955 - accuracy: 0.8942 - val_loss: 0.4574 - val_accuracy: 0.8649\n",
            "Epoch 268/2000\n",
            "94/94 [==============================] - 1s 6ms/step - loss: 0.2925 - accuracy: 0.8969 - val_loss: 0.4454 - val_accuracy: 0.8652\n",
            "Epoch 269/2000\n",
            "94/94 [==============================] - 1s 6ms/step - loss: 0.2892 - accuracy: 0.8973 - val_loss: 0.4586 - val_accuracy: 0.8656\n",
            "Epoch 270/2000\n",
            "94/94 [==============================] - 1s 6ms/step - loss: 0.2853 - accuracy: 0.8992 - val_loss: 0.4563 - val_accuracy: 0.8624\n",
            "Epoch 271/2000\n",
            "94/94 [==============================] - 1s 5ms/step - loss: 0.3016 - accuracy: 0.8937 - val_loss: 0.4606 - val_accuracy: 0.8656\n",
            "Epoch 272/2000\n",
            "94/94 [==============================] - 1s 6ms/step - loss: 0.2986 - accuracy: 0.8957 - val_loss: 0.4607 - val_accuracy: 0.8637\n",
            "Epoch 273/2000\n",
            "94/94 [==============================] - 1s 6ms/step - loss: 0.2955 - accuracy: 0.8964 - val_loss: 0.4526 - val_accuracy: 0.8640\n",
            "Epoch 274/2000\n",
            "94/94 [==============================] - 1s 6ms/step - loss: 0.2917 - accuracy: 0.8969 - val_loss: 0.4506 - val_accuracy: 0.8653\n",
            "Epoch 275/2000\n",
            "94/94 [==============================] - 1s 6ms/step - loss: 0.2861 - accuracy: 0.8991 - val_loss: 0.4545 - val_accuracy: 0.8636\n",
            "Epoch 276/2000\n",
            "94/94 [==============================] - 1s 6ms/step - loss: 0.2876 - accuracy: 0.8982 - val_loss: 0.4399 - val_accuracy: 0.8698\n",
            "Epoch 277/2000\n",
            "94/94 [==============================] - 1s 6ms/step - loss: 0.3016 - accuracy: 0.8954 - val_loss: 0.4519 - val_accuracy: 0.8672\n",
            "Epoch 278/2000\n",
            "94/94 [==============================] - 1s 6ms/step - loss: 0.2888 - accuracy: 0.8976 - val_loss: 0.4594 - val_accuracy: 0.8621\n",
            "Epoch 279/2000\n",
            "94/94 [==============================] - 1s 6ms/step - loss: 0.2857 - accuracy: 0.8993 - val_loss: 0.4680 - val_accuracy: 0.8632\n",
            "Epoch 280/2000\n",
            "94/94 [==============================] - 1s 6ms/step - loss: 0.2813 - accuracy: 0.9002 - val_loss: 0.4522 - val_accuracy: 0.8647\n",
            "Epoch 281/2000\n",
            "94/94 [==============================] - 1s 6ms/step - loss: 0.2857 - accuracy: 0.8992 - val_loss: 0.4592 - val_accuracy: 0.8641\n",
            "Epoch 282/2000\n",
            "94/94 [==============================] - 1s 6ms/step - loss: 0.3056 - accuracy: 0.8930 - val_loss: 0.4624 - val_accuracy: 0.8620\n",
            "Epoch 283/2000\n",
            "94/94 [==============================] - 1s 6ms/step - loss: 0.2879 - accuracy: 0.8981 - val_loss: 0.4588 - val_accuracy: 0.8655\n",
            "Epoch 284/2000\n",
            "94/94 [==============================] - 1s 5ms/step - loss: 0.2856 - accuracy: 0.8997 - val_loss: 0.4563 - val_accuracy: 0.8629\n",
            "Epoch 285/2000\n",
            "94/94 [==============================] - 1s 6ms/step - loss: 0.3089 - accuracy: 0.8903 - val_loss: 0.4638 - val_accuracy: 0.8597\n",
            "Epoch 286/2000\n",
            "94/94 [==============================] - 1s 6ms/step - loss: 0.2942 - accuracy: 0.8957 - val_loss: 0.4557 - val_accuracy: 0.8645\n",
            "Epoch 287/2000\n",
            "94/94 [==============================] - 1s 6ms/step - loss: 0.2855 - accuracy: 0.8993 - val_loss: 0.4588 - val_accuracy: 0.8658\n",
            "Epoch 288/2000\n",
            "94/94 [==============================] - 1s 6ms/step - loss: 0.2815 - accuracy: 0.9004 - val_loss: 0.4524 - val_accuracy: 0.8690\n",
            "Epoch 289/2000\n",
            "94/94 [==============================] - 1s 6ms/step - loss: 0.2754 - accuracy: 0.9030 - val_loss: 0.4468 - val_accuracy: 0.8667\n",
            "Epoch 290/2000\n",
            "94/94 [==============================] - 1s 6ms/step - loss: 0.2804 - accuracy: 0.9015 - val_loss: 0.4597 - val_accuracy: 0.8679\n",
            "Epoch 291/2000\n",
            "94/94 [==============================] - 1s 6ms/step - loss: 0.2767 - accuracy: 0.9024 - val_loss: 0.4790 - val_accuracy: 0.8618\n",
            "Epoch 292/2000\n",
            "94/94 [==============================] - 1s 6ms/step - loss: 0.2767 - accuracy: 0.9018 - val_loss: 0.4888 - val_accuracy: 0.8614\n",
            "Epoch 293/2000\n",
            "94/94 [==============================] - 1s 6ms/step - loss: 0.2787 - accuracy: 0.9009 - val_loss: 0.4779 - val_accuracy: 0.8669\n",
            "Epoch 294/2000\n",
            "94/94 [==============================] - 1s 6ms/step - loss: 0.2740 - accuracy: 0.9032 - val_loss: 0.4822 - val_accuracy: 0.8670\n",
            "Epoch 295/2000\n",
            "94/94 [==============================] - 1s 6ms/step - loss: 0.2727 - accuracy: 0.9044 - val_loss: 0.4872 - val_accuracy: 0.8672\n",
            "Epoch 296/2000\n",
            "94/94 [==============================] - 1s 6ms/step - loss: 0.2825 - accuracy: 0.9016 - val_loss: 0.4940 - val_accuracy: 0.8676\n",
            "Epoch 297/2000\n",
            "94/94 [==============================] - 1s 6ms/step - loss: 0.2823 - accuracy: 0.9002 - val_loss: 0.4794 - val_accuracy: 0.8547\n",
            "Epoch 298/2000\n",
            "94/94 [==============================] - 1s 6ms/step - loss: 0.2807 - accuracy: 0.8995 - val_loss: 0.4714 - val_accuracy: 0.8665\n",
            "Epoch 299/2000\n",
            "94/94 [==============================] - 1s 6ms/step - loss: 0.2693 - accuracy: 0.9042 - val_loss: 0.4761 - val_accuracy: 0.8633\n",
            "Epoch 300/2000\n",
            "94/94 [==============================] - 1s 6ms/step - loss: 0.2792 - accuracy: 0.9005 - val_loss: 0.4538 - val_accuracy: 0.8671\n",
            "Epoch 301/2000\n",
            "94/94 [==============================] - 1s 6ms/step - loss: 0.2850 - accuracy: 0.9005 - val_loss: 0.4920 - val_accuracy: 0.8522\n",
            "Epoch 302/2000\n",
            "94/94 [==============================] - 1s 6ms/step - loss: 0.2919 - accuracy: 0.8991 - val_loss: 0.4715 - val_accuracy: 0.8676\n",
            "Epoch 303/2000\n",
            "94/94 [==============================] - 1s 6ms/step - loss: 0.2765 - accuracy: 0.9022 - val_loss: 0.4673 - val_accuracy: 0.8636\n",
            "Epoch 304/2000\n",
            "94/94 [==============================] - 1s 6ms/step - loss: 0.2764 - accuracy: 0.9020 - val_loss: 0.4562 - val_accuracy: 0.8666\n",
            "Epoch 305/2000\n",
            "94/94 [==============================] - 1s 6ms/step - loss: 0.2710 - accuracy: 0.9039 - val_loss: 0.4598 - val_accuracy: 0.8668\n",
            "Epoch 306/2000\n",
            "94/94 [==============================] - 1s 6ms/step - loss: 0.2622 - accuracy: 0.9069 - val_loss: 0.4746 - val_accuracy: 0.8689\n",
            "Epoch 307/2000\n",
            "94/94 [==============================] - 1s 6ms/step - loss: 0.2776 - accuracy: 0.9013 - val_loss: 0.4624 - val_accuracy: 0.8665\n",
            "Epoch 308/2000\n",
            "94/94 [==============================] - 1s 6ms/step - loss: 0.3048 - accuracy: 0.9009 - val_loss: 0.4907 - val_accuracy: 0.8558\n",
            "Epoch 309/2000\n",
            "94/94 [==============================] - 1s 5ms/step - loss: 0.3359 - accuracy: 0.8842 - val_loss: 0.5684 - val_accuracy: 0.8290\n",
            "Epoch 310/2000\n",
            "94/94 [==============================] - 1s 6ms/step - loss: 0.3419 - accuracy: 0.8789 - val_loss: 0.4840 - val_accuracy: 0.8537\n",
            "Epoch 311/2000\n",
            "94/94 [==============================] - 1s 6ms/step - loss: 0.3463 - accuracy: 0.8740 - val_loss: 0.4666 - val_accuracy: 0.8582\n",
            "Epoch 312/2000\n",
            "94/94 [==============================] - 1s 6ms/step - loss: 0.3073 - accuracy: 0.8900 - val_loss: 0.4671 - val_accuracy: 0.8596\n",
            "Epoch 313/2000\n",
            "94/94 [==============================] - 1s 6ms/step - loss: 0.2970 - accuracy: 0.8945 - val_loss: 0.4698 - val_accuracy: 0.8632\n",
            "Epoch 314/2000\n",
            "94/94 [==============================] - 1s 6ms/step - loss: 0.2871 - accuracy: 0.8991 - val_loss: 0.4798 - val_accuracy: 0.8646\n",
            "Epoch 315/2000\n",
            "94/94 [==============================] - 1s 6ms/step - loss: 0.2868 - accuracy: 0.8997 - val_loss: 0.4652 - val_accuracy: 0.8646\n",
            "Epoch 316/2000\n",
            "94/94 [==============================] - 1s 6ms/step - loss: 0.2891 - accuracy: 0.8973 - val_loss: 0.4670 - val_accuracy: 0.8581\n",
            "Epoch 317/2000\n",
            "94/94 [==============================] - 1s 6ms/step - loss: 0.2871 - accuracy: 0.8986 - val_loss: 0.4893 - val_accuracy: 0.8604\n",
            "Epoch 318/2000\n",
            "94/94 [==============================] - 1s 6ms/step - loss: 0.2832 - accuracy: 0.8995 - val_loss: 0.4723 - val_accuracy: 0.8579\n",
            "Epoch 319/2000\n",
            "94/94 [==============================] - 1s 6ms/step - loss: 0.2834 - accuracy: 0.9001 - val_loss: 0.4808 - val_accuracy: 0.8622\n",
            "Epoch 320/2000\n",
            "94/94 [==============================] - 1s 6ms/step - loss: 0.2840 - accuracy: 0.9006 - val_loss: 0.4793 - val_accuracy: 0.8611\n"
          ],
          "name": "stdout"
        }
      ]
    },
    {
      "cell_type": "code",
      "metadata": {
        "id": "hIgLHZ76Ulrq",
        "colab_type": "code",
        "colab": {
          "base_uri": "https://localhost:8080/",
          "height": 267
        },
        "outputId": "676272c9-f37c-4b13-9dbb-cf67bb42a1c7"
      },
      "source": [
        "plot_history(history)"
      ],
      "execution_count": 30,
      "outputs": [
        {
          "output_type": "display_data",
          "data": {
            "image/png": "[encoded data removed]",
            "text/plain": [
              "<Figure size 432x288 with 1 Axes>"
            ]
          },
          "metadata": {
            "tags": [],
            "needs_background": "light"
          }
        }
      ]
    },
    {
      "cell_type": "code",
      "metadata": {
        "id": "ZfV-WiR0Vg6R",
        "colab_type": "code",
        "colab": {}
      },
      "source": [
        "my_callbacks = [\n",
        "    keras.callbacks.EarlyStopping(patience=10),\n",
        "    keras.callbacks.ModelCheckpoint(filepath=\"best_weights.hdf5\", verbose=1, save_best_only=True),\n",
        "]\n",
        "\n",
        "dropout = [0.2] * len(hidden_layer_sizes)\n",
        "model = create_model(hidden_layer_sizes, hidden_layer_activations, len(classes), dropout, initializer)\n",
        "\n"
      ],
      "execution_count": 31,
      "outputs": []
    },
    {
      "cell_type": "code",
      "metadata": {
        "id": "YTULu8gCVpNU",
        "colab_type": "code",
        "colab": {}
      },
      "source": [
        "def train_model_with_callbacks(X_train, y_train, X_valid, y_valid, model, opt='sgd', batch_size=20, epochs=20, loss='sparse_categorical_crossentropy', callbacks=[]):\n",
        "  model.compile(loss=loss, optimizer=opt, metrics=['accuracy'])\n",
        "  history = model.fit(X_train, y_train, epochs=epochs, validation_data=(X_valid, y_valid), batch_size=batch_size, callbacks=callbacks)\n",
        "  return model, history"
      ],
      "execution_count": 33,
      "outputs": []
    },
    {
      "cell_type": "code",
      "metadata": {
        "id": "QAHWumXEHeMc",
        "colab_type": "code",
        "colab": {
          "base_uri": "https://localhost:8080/",
          "height": 1000
        },
        "outputId": "a2e08224-2101-4b82-a06e-4379b3f63c83"
      },
      "source": [
        "model, history = train_model_with_callbacks(X_train, y_train, X_valid, y_valid, model, opt=opt, batch_size=batch_size, epochs=epoch_n*2, loss=loss, callbacks=my_callbacks)"
      ],
      "execution_count": 35,
      "outputs": [
        {
          "output_type": "stream",
          "text": [
            "Epoch 1/2000\n",
            "82/94 [=========================>....] - ETA: 0s - loss: 2.3031 - accuracy: 0.0997\n",
            "Epoch 00001: val_loss did not improve from 2.30273\n",
            "94/94 [==============================] - 1s 7ms/step - loss: 2.3031 - accuracy: 0.0994 - val_loss: 2.3031 - val_accuracy: 0.1002\n",
            "Epoch 2/2000\n",
            "93/94 [============================>.] - ETA: 0s - loss: 2.3030 - accuracy: 0.0986\n",
            "Epoch 00002: val_loss did not improve from 2.30273\n",
            "94/94 [==============================] - 0s 5ms/step - loss: 2.3030 - accuracy: 0.0987 - val_loss: 2.3031 - val_accuracy: 0.0966\n",
            "Epoch 3/2000\n",
            "82/94 [=========================>....] - ETA: 0s - loss: 2.3032 - accuracy: 0.0986\n",
            "Epoch 00003: val_loss improved from 2.30273 to 2.30270, saving model to best_weights.hdf5\n",
            "94/94 [==============================] - 1s 6ms/step - loss: 2.3032 - accuracy: 0.0990 - val_loss: 2.3027 - val_accuracy: 0.1002\n",
            "Epoch 4/2000\n",
            "82/94 [=========================>....] - ETA: 0s - loss: 2.3029 - accuracy: 0.1001\n",
            "Epoch 00004: val_loss did not improve from 2.30270\n",
            "94/94 [==============================] - 0s 5ms/step - loss: 2.3029 - accuracy: 0.0996 - val_loss: 2.3029 - val_accuracy: 0.1002\n",
            "Epoch 5/2000\n",
            "86/94 [==========================>...] - ETA: 0s - loss: 2.3030 - accuracy: 0.0988\n",
            "Epoch 00005: val_loss did not improve from 2.30270\n",
            "94/94 [==============================] - 0s 4ms/step - loss: 2.3030 - accuracy: 0.0986 - val_loss: 2.3028 - val_accuracy: 0.1004\n",
            "Epoch 6/2000\n",
            "82/94 [=========================>....] - ETA: 0s - loss: 2.3032 - accuracy: 0.0981\n",
            "Epoch 00006: val_loss did not improve from 2.30270\n",
            "94/94 [==============================] - 0s 5ms/step - loss: 2.3032 - accuracy: 0.0979 - val_loss: 2.3029 - val_accuracy: 0.0966\n",
            "Epoch 7/2000\n",
            "94/94 [==============================] - ETA: 0s - loss: 2.3029 - accuracy: 0.1003\n",
            "Epoch 00007: val_loss did not improve from 2.30270\n",
            "94/94 [==============================] - 0s 5ms/step - loss: 2.3029 - accuracy: 0.1003 - val_loss: 2.3027 - val_accuracy: 0.1016\n",
            "Epoch 8/2000\n",
            "81/94 [========================>.....] - ETA: 0s - loss: 2.3030 - accuracy: 0.0974\n",
            "Epoch 00008: val_loss did not improve from 2.30270\n",
            "94/94 [==============================] - 0s 5ms/step - loss: 2.3030 - accuracy: 0.0978 - val_loss: 2.3028 - val_accuracy: 0.0987\n",
            "Epoch 9/2000\n",
            "85/94 [==========================>...] - ETA: 0s - loss: 2.3029 - accuracy: 0.0997\n",
            "Epoch 00009: val_loss improved from 2.30270 to 2.30268, saving model to best_weights.hdf5\n",
            "94/94 [==============================] - 1s 5ms/step - loss: 2.3029 - accuracy: 0.1001 - val_loss: 2.3027 - val_accuracy: 0.1009\n",
            "Epoch 10/2000\n",
            "81/94 [========================>.....] - ETA: 0s - loss: 2.3029 - accuracy: 0.0990\n",
            "Epoch 00010: val_loss did not improve from 2.30268\n",
            "94/94 [==============================] - 0s 5ms/step - loss: 2.3029 - accuracy: 0.0991 - val_loss: 2.3030 - val_accuracy: 0.0987\n",
            "Epoch 11/2000\n",
            "86/94 [==========================>...] - ETA: 0s - loss: 2.3030 - accuracy: 0.0997\n",
            "Epoch 00011: val_loss did not improve from 2.30268\n",
            "94/94 [==============================] - 0s 4ms/step - loss: 2.3030 - accuracy: 0.0992 - val_loss: 2.3030 - val_accuracy: 0.1002\n",
            "Epoch 12/2000\n",
            "87/94 [==========================>...] - ETA: 0s - loss: 2.3030 - accuracy: 0.0960\n",
            "Epoch 00012: val_loss did not improve from 2.30268\n",
            "94/94 [==============================] - 0s 4ms/step - loss: 2.3029 - accuracy: 0.0965 - val_loss: 2.3030 - val_accuracy: 0.1009\n",
            "Epoch 13/2000\n",
            "88/94 [===========================>..] - ETA: 0s - loss: 2.3030 - accuracy: 0.0984\n",
            "Epoch 00013: val_loss did not improve from 2.30268\n",
            "94/94 [==============================] - 0s 4ms/step - loss: 2.3030 - accuracy: 0.0984 - val_loss: 2.3028 - val_accuracy: 0.0966\n",
            "Epoch 14/2000\n",
            "86/94 [==========================>...] - ETA: 0s - loss: 2.3029 - accuracy: 0.0981\n",
            "Epoch 00014: val_loss did not improve from 2.30268\n",
            "94/94 [==============================] - 0s 4ms/step - loss: 2.3029 - accuracy: 0.0984 - val_loss: 2.3028 - val_accuracy: 0.1002\n",
            "Epoch 15/2000\n",
            "94/94 [==============================] - ETA: 0s - loss: 2.3029 - accuracy: 0.0974\n",
            "Epoch 00015: val_loss did not improve from 2.30268\n",
            "94/94 [==============================] - 0s 5ms/step - loss: 2.3029 - accuracy: 0.0974 - val_loss: 2.3028 - val_accuracy: 0.1002\n",
            "Epoch 16/2000\n",
            "87/94 [==========================>...] - ETA: 0s - loss: 2.3029 - accuracy: 0.0985\n",
            "Epoch 00016: val_loss did not improve from 2.30268\n",
            "94/94 [==============================] - 0s 4ms/step - loss: 2.3030 - accuracy: 0.0983 - val_loss: 2.3030 - val_accuracy: 0.1009\n",
            "Epoch 17/2000\n",
            "87/94 [==========================>...] - ETA: 0s - loss: 2.3031 - accuracy: 0.0975\n",
            "Epoch 00017: val_loss did not improve from 2.30268\n",
            "94/94 [==============================] - 0s 4ms/step - loss: 2.3031 - accuracy: 0.0971 - val_loss: 2.3030 - val_accuracy: 0.0966\n",
            "Epoch 18/2000\n",
            "87/94 [==========================>...] - ETA: 0s - loss: 2.3031 - accuracy: 0.0970\n",
            "Epoch 00018: val_loss improved from 2.30268 to 2.30258, saving model to best_weights.hdf5\n",
            "94/94 [==============================] - 0s 5ms/step - loss: 2.3031 - accuracy: 0.0970 - val_loss: 2.3026 - val_accuracy: 0.1016\n",
            "Epoch 19/2000\n",
            "85/94 [==========================>...] - ETA: 0s - loss: 2.3030 - accuracy: 0.1006\n",
            "Epoch 00019: val_loss did not improve from 2.30258\n",
            "94/94 [==============================] - 0s 5ms/step - loss: 2.3029 - accuracy: 0.1006 - val_loss: 2.3029 - val_accuracy: 0.1015\n",
            "Epoch 20/2000\n",
            "83/94 [=========================>....] - ETA: 0s - loss: 2.3030 - accuracy: 0.0991\n",
            "Epoch 00020: val_loss did not improve from 2.30258\n",
            "94/94 [==============================] - 0s 4ms/step - loss: 2.3030 - accuracy: 0.0984 - val_loss: 2.3027 - val_accuracy: 0.1004\n",
            "Epoch 21/2000\n",
            "87/94 [==========================>...] - ETA: 0s - loss: 2.3029 - accuracy: 0.0992\n",
            "Epoch 00021: val_loss did not improve from 2.30258\n",
            "94/94 [==============================] - 0s 4ms/step - loss: 2.3030 - accuracy: 0.0990 - val_loss: 2.3030 - val_accuracy: 0.0987\n",
            "Epoch 22/2000\n",
            "82/94 [=========================>....] - ETA: 0s - loss: 2.3030 - accuracy: 0.0986\n",
            "Epoch 00022: val_loss did not improve from 2.30258\n",
            "94/94 [==============================] - 0s 5ms/step - loss: 2.3030 - accuracy: 0.0985 - val_loss: 2.3027 - val_accuracy: 0.1002\n",
            "Epoch 23/2000\n",
            "88/94 [===========================>..] - ETA: 0s - loss: 2.3030 - accuracy: 0.0995\n",
            "Epoch 00023: val_loss did not improve from 2.30258\n",
            "94/94 [==============================] - 0s 4ms/step - loss: 2.3030 - accuracy: 0.0996 - val_loss: 2.3027 - val_accuracy: 0.1016\n",
            "Epoch 24/2000\n",
            "82/94 [=========================>....] - ETA: 0s - loss: 2.3030 - accuracy: 0.0966\n",
            "Epoch 00024: val_loss did not improve from 2.30258\n",
            "94/94 [==============================] - 0s 5ms/step - loss: 2.3030 - accuracy: 0.0972 - val_loss: 2.3029 - val_accuracy: 0.0997\n",
            "Epoch 25/2000\n",
            "85/94 [==========================>...] - ETA: 0s - loss: 2.3031 - accuracy: 0.0984\n",
            "Epoch 00025: val_loss did not improve from 2.30258\n",
            "94/94 [==============================] - 0s 5ms/step - loss: 2.3030 - accuracy: 0.0991 - val_loss: 2.3029 - val_accuracy: 0.1002\n",
            "Epoch 26/2000\n",
            "94/94 [==============================] - ETA: 0s - loss: 2.3030 - accuracy: 0.0999\n",
            "Epoch 00026: val_loss did not improve from 2.30258\n",
            "94/94 [==============================] - 0s 5ms/step - loss: 2.3030 - accuracy: 0.0999 - val_loss: 2.3029 - val_accuracy: 0.0966\n",
            "Epoch 27/2000\n",
            "82/94 [=========================>....] - ETA: 0s - loss: 2.3030 - accuracy: 0.0990\n",
            "Epoch 00027: val_loss did not improve from 2.30258\n",
            "94/94 [==============================] - 0s 5ms/step - loss: 2.3030 - accuracy: 0.0996 - val_loss: 2.3029 - val_accuracy: 0.0987\n",
            "Epoch 28/2000\n",
            "93/94 [============================>.] - ETA: 0s - loss: 2.3032 - accuracy: 0.0980\n",
            "Epoch 00028: val_loss did not improve from 2.30258\n",
            "94/94 [==============================] - 0s 5ms/step - loss: 2.3032 - accuracy: 0.0979 - val_loss: 2.3029 - val_accuracy: 0.0966\n"
          ],
          "name": "stdout"
        }
      ]
    },
    {
      "cell_type": "code",
      "metadata": {
        "id": "yB28TELZWCVc",
        "colab_type": "code",
        "colab": {
          "base_uri": "https://localhost:8080/",
          "height": 34
        },
        "outputId": "1185564c-2e4a-4dc9-88bd-191c91038429"
      },
      "source": [
        "!ls\n",
        "\n"
      ],
      "execution_count": 36,
      "outputs": [
        {
          "output_type": "stream",
          "text": [
            "best_weights.hdf5  sample_data\n"
          ],
          "name": "stdout"
        }
      ]
    },
    {
      "cell_type": "code",
      "metadata": {
        "id": "jIsBDHX5WXXz",
        "colab_type": "code",
        "colab": {
          "base_uri": "https://localhost:8080/",
          "height": 265
        },
        "outputId": "0b36af0d-f48f-43a0-a93a-08658a391065"
      },
      "source": [
        "plot_history(history)"
      ],
      "execution_count": 37,
      "outputs": [
        {
          "output_type": "display_data",
          "data": {
            "image/png": "[encoded data removed]",
            "text/plain": [
              "<Figure size 432x288 with 1 Axes>"
            ]
          },
          "metadata": {
            "tags": [],
            "needs_background": "light"
          }
        }
      ]
    },
    {
      "cell_type": "code",
      "metadata": {
        "id": "WibBaoN1WaZ_",
        "colab_type": "code",
        "colab": {}
      },
      "source": [
        "model.load_weights('best_weights.hdf5')"
      ],
      "execution_count": null,
      "outputs": []
    },
    {
      "cell_type": "code",
      "metadata": {
        "id": "qbmAH2E5XLqQ",
        "colab_type": "code",
        "colab": {}
      },
      "source": [
        "opt = keras.optimizers.SGD(learning_rate=0.001)\n",
        "batch_size = 128\n",
        "epoch_n = 30"
      ],
      "execution_count": null,
      "outputs": []
    },
    {
      "cell_type": "code",
      "metadata": {
        "id": "KBhVV5WkZbq-",
        "colab_type": "code",
        "colab": {}
      },
      "source": [
        "my_callbacks = [\n",
        "    keras.callbacks.EarlyStopping(patience=5),\n",
        "    keras.callbacks.ModelCheckpoint(filepath=\"best_weights_iteration2.hdf5\", verbose=1, save_best_only=True),\n",
        "]"
      ],
      "execution_count": null,
      "outputs": []
    },
    {
      "cell_type": "code",
      "metadata": {
        "id": "sz-C6BTPZpkv",
        "colab_type": "code",
        "colab": {}
      },
      "source": [
        "# model, history = train_model_with_callbacks(X_train, y_train, X_valid, y_valid, model, opt=opt, batch_size=batch_size, epochs=epoch_n, loss=loss, callbacks=my_callbacks)"
      ],
      "execution_count": null,
      "outputs": []
    },
    {
      "cell_type": "code",
      "metadata": {
        "id": "ehlelInfaOHL",
        "colab_type": "code",
        "colab": {
          "base_uri": "https://localhost:8080/",
          "height": 265
        },
        "outputId": "0f95147f-883b-405e-da2c-f3c142e490dc"
      },
      "source": [
        "plot_history(history)"
      ],
      "execution_count": null,
      "outputs": [
        {
          "output_type": "display_data",
          "data": {
            "image/png": "[encoded data removed]",
            "text/plain": [
              "<Figure size 432x288 with 1 Axes>"
            ]
          },
          "metadata": {
            "tags": [],
            "needs_background": "light"
          }
        }
      ]
    },
    {
      "cell_type": "code",
      "metadata": {
        "id": "r3iTvbcNJ4Ca",
        "colab_type": "code",
        "colab": {}
      },
      "source": [
        "model.load_weights('best_weights_iteration2.hdf5')"
      ],
      "execution_count": null,
      "outputs": []
    },
    {
      "cell_type": "code",
      "metadata": {
        "id": "6GAR64JtLEm-",
        "colab_type": "code",
        "colab": {}
      },
      "source": [
        "y_pred = model.predict_classes(X_test)"
      ],
      "execution_count": null,
      "outputs": []
    },
    {
      "cell_type": "code",
      "metadata": {
        "id": "cX6IO02qLIdb",
        "colab_type": "code",
        "colab": {
          "base_uri": "https://localhost:8080/",
          "height": 306
        },
        "outputId": "2e91386e-f99d-4b57-85e6-8f22383fa652"
      },
      "source": [
        "print(classification_report(y_test, y_pred,target_names=classes))"
      ],
      "execution_count": null,
      "outputs": [
        {
          "output_type": "stream",
          "text": [
            "              precision    recall  f1-score   support\n",
            "\n",
            " T-shirt/top       0.78      0.76      0.77      1000\n",
            "     Trouser       0.98      0.94      0.96      1000\n",
            "    Pullover       0.39      0.91      0.54      1000\n",
            "       Dress       0.73      0.83      0.78      1000\n",
            "        Coat       0.82      0.25      0.38      1000\n",
            "      Sandal       0.88      0.86      0.87      1000\n",
            "       Shirt       0.31      0.08      0.12      1000\n",
            "     Sneaker       0.69      0.88      0.77      1000\n",
            "         Bag       0.91      0.94      0.92      1000\n",
            "  Ankle boot       0.98      0.72      0.83      1000\n",
            "\n",
            "    accuracy                           0.72     10000\n",
            "   macro avg       0.75      0.72      0.69     10000\n",
            "weighted avg       0.75      0.72      0.69     10000\n",
            "\n"
          ],
          "name": "stdout"
        }
      ]
    },
    {
      "cell_type": "markdown",
      "metadata": {
        "id": "EliHj2HtHLrL",
        "colab_type": "text"
      },
      "source": [
        "## Convolutional Neural Networks"
      ]
    },
    {
      "cell_type": "code",
      "metadata": {
        "id": "V5UCcmkZLPQj",
        "colab_type": "code",
        "colab": {}
      },
      "source": [
        "\n",
        "# Parameters - this is for illustration purposes, ideally this would be in a dictionary that could be passed to a function\n",
        "initializer = keras.initializers.GlorotNormal()\n",
        "\n",
        "number_of_classes = len(classes)\n",
        "\n",
        "# Training parameters\n",
        "opt = keras.optimizers.Adam(learning_rate=0.01)\n",
        "batch_size = 512\n",
        "epoch_n = 30\n",
        "loss = 'sparse_categorical_crossentropy'"
      ],
      "execution_count": null,
      "outputs": []
    },
    {
      "cell_type": "code",
      "metadata": {
        "id": "Ly8ykSf-LRIZ",
        "colab_type": "code",
        "colab": {}
      },
      "source": [
        "from keras.layers import *\n",
        "def create_conv_model(n_classes, initializer=keras.initializers.RandomUniform()):\n",
        "\n",
        "  model = keras.models.Sequential()\n",
        "  # first CONV => RELU => CONV => RELU => POOL layer set\n",
        "  model.add(Conv2D(32, (3, 3), padding=\"same\",\n",
        "    input_shape=(28,28 ,1)))\n",
        "  model.add(Activation(\"relu\"))\n",
        "  model.add(BatchNormalization(axis=1))\n",
        "  model.add(Conv2D(32, (3, 3), padding=\"same\"))\n",
        "  model.add(Activation(\"relu\"))\n",
        "  model.add(BatchNormalization(axis=1))\n",
        "  model.add(MaxPooling2D(pool_size=(2, 2)))\n",
        "  model.add(Dropout(0.25))\n",
        "  # second CONV => RELU => CONV => RELU => POOL layer set\n",
        "  model.add(Conv2D(64, (3, 3), padding=\"same\"))\n",
        "  model.add(Activation(\"relu\"))\n",
        "  model.add(BatchNormalization(axis=1))\n",
        "  model.add(keras.layers.Conv2D(64, (3, 3), padding=\"same\"))\n",
        "  model.add(Activation(\"relu\"))\n",
        "  model.add(BatchNormalization(axis=1))\n",
        "  model.add(MaxPooling2D(pool_size=(2, 2)))\n",
        "  model.add(Dropout(0.25))\n",
        "  # first (and only) set of FC => RELU layers\n",
        "  model.add(Flatten())\n",
        "  model.add(Dense(512))\n",
        "  model.add(Activation(\"relu\"))\n",
        "  model.add(BatchNormalization())\n",
        "  model.add(Dropout(0.5))\n",
        "  # softmax classifier\n",
        "  model.add(Dense(n_classes))\n",
        "  model.add(Activation(\"softmax\"))\n",
        "  # return the constructed network architecture\n",
        "  return model"
      ],
      "execution_count": null,
      "outputs": []
    },
    {
      "cell_type": "code",
      "metadata": {
        "id": "J0Hu6XLuNOj2",
        "colab_type": "code",
        "colab": {
          "base_uri": "https://localhost:8080/",
          "height": 935
        },
        "outputId": "34353007-8756-472a-f11e-c9c0bd620e25"
      },
      "source": [
        "model = create_conv_model(len(classes), initializer)\n",
        "model.summary()"
      ],
      "execution_count": null,
      "outputs": [
        {
          "output_type": "stream",
          "text": [
            "Model: \"sequential_5\"\n",
            "_________________________________________________________________\n",
            "Layer (type)                 Output Shape              Param #   \n",
            "=================================================================\n",
            "conv2d_4 (Conv2D)            (None, 28, 28, 32)        320       \n",
            "_________________________________________________________________\n",
            "activation_6 (Activation)    (None, 28, 28, 32)        0         \n",
            "_________________________________________________________________\n",
            "batch_normalization_5 (Batch (None, 28, 28, 32)        112       \n",
            "_________________________________________________________________\n",
            "conv2d_5 (Conv2D)            (None, 28, 28, 32)        9248      \n",
            "_________________________________________________________________\n",
            "activation_7 (Activation)    (None, 28, 28, 32)        0         \n",
            "_________________________________________________________________\n",
            "batch_normalization_6 (Batch (None, 28, 28, 32)        112       \n",
            "_________________________________________________________________\n",
            "max_pooling2d_2 (MaxPooling2 (None, 14, 14, 32)        0         \n",
            "_________________________________________________________________\n",
            "dropout_7 (Dropout)          (None, 14, 14, 32)        0         \n",
            "_________________________________________________________________\n",
            "conv2d_6 (Conv2D)            (None, 14, 14, 64)        18496     \n",
            "_________________________________________________________________\n",
            "activation_8 (Activation)    (None, 14, 14, 64)        0         \n",
            "_________________________________________________________________\n",
            "batch_normalization_7 (Batch (None, 14, 14, 64)        56        \n",
            "_________________________________________________________________\n",
            "conv2d_7 (Conv2D)            (None, 14, 14, 64)        36928     \n",
            "_________________________________________________________________\n",
            "activation_9 (Activation)    (None, 14, 14, 64)        0         \n",
            "_________________________________________________________________\n",
            "batch_normalization_8 (Batch (None, 14, 14, 64)        56        \n",
            "_________________________________________________________________\n",
            "max_pooling2d_3 (MaxPooling2 (None, 7, 7, 64)          0         \n",
            "_________________________________________________________________\n",
            "dropout_8 (Dropout)          (None, 7, 7, 64)          0         \n",
            "_________________________________________________________________\n",
            "flatten_4 (Flatten)          (None, 3136)              0         \n",
            "_________________________________________________________________\n",
            "dense_21 (Dense)             (None, 512)               1606144   \n",
            "_________________________________________________________________\n",
            "activation_10 (Activation)   (None, 512)               0         \n",
            "_________________________________________________________________\n",
            "batch_normalization_9 (Batch (None, 512)               2048      \n",
            "_________________________________________________________________\n",
            "dropout_9 (Dropout)          (None, 512)               0         \n",
            "_________________________________________________________________\n",
            "dense_22 (Dense)             (None, 10)                5130      \n",
            "_________________________________________________________________\n",
            "activation_11 (Activation)   (None, 10)                0         \n",
            "=================================================================\n",
            "Total params: 1,678,650\n",
            "Trainable params: 1,677,458\n",
            "Non-trainable params: 1,192\n",
            "_________________________________________________________________\n"
          ],
          "name": "stdout"
        }
      ]
    },
    {
      "cell_type": "code",
      "metadata": {
        "id": "6webIEXa9DpO",
        "colab_type": "code",
        "colab": {}
      },
      "source": [
        "def reshape_for_conv2d(x):\n",
        "  return x.reshape(-1, 28, 28, 1) # we add an extra dimension for the number of channels (only 1 in our case)\n",
        "\n",
        "def one_hot_encode(y):\n",
        "  return pd.get_dummies(y).values"
      ],
      "execution_count": null,
      "outputs": []
    },
    {
      "cell_type": "code",
      "metadata": {
        "id": "s_Dr-ZRYNagh",
        "colab_type": "code",
        "colab": {
          "base_uri": "https://localhost:8080/",
          "height": 1000
        },
        "outputId": "68180dd9-8a64-4f54-c410-c5cdbb2a2ca4"
      },
      "source": [
        "model, history = train_model_with_callbacks(reshape_for_conv2d(X_train), y_train, reshape_for_conv2d(X_valid), y_valid, model, opt=opt, batch_size=256, epochs=epoch_n, loss=\"sparse_categorical_crossentropy\", callbacks=my_callbacks)"
      ],
      "execution_count": null,
      "outputs": [
        {
          "output_type": "stream",
          "text": [
            "Epoch 1/30\n",
            "188/188 [==============================] - ETA: 0s - loss: 0.6897 - accuracy: 0.7604\n",
            "Epoch 00001: val_loss improved from inf to 4.23093, saving model to best_weights_iteration2.hdf5\n",
            "188/188 [==============================] - 4s 20ms/step - loss: 0.6897 - accuracy: 0.7604 - val_loss: 4.2309 - val_accuracy: 0.2858\n",
            "Epoch 2/30\n",
            "187/188 [============================>.] - ETA: 0s - loss: 0.4168 - accuracy: 0.8487\n",
            "Epoch 00002: val_loss improved from 4.23093 to 1.23311, saving model to best_weights_iteration2.hdf5\n",
            "188/188 [==============================] - 3s 18ms/step - loss: 0.4170 - accuracy: 0.8487 - val_loss: 1.2331 - val_accuracy: 0.6192\n",
            "Epoch 3/30\n",
            "188/188 [==============================] - ETA: 0s - loss: 0.3703 - accuracy: 0.8662\n",
            "Epoch 00003: val_loss improved from 1.23311 to 0.34561, saving model to best_weights_iteration2.hdf5\n",
            "188/188 [==============================] - 3s 18ms/step - loss: 0.3703 - accuracy: 0.8662 - val_loss: 0.3456 - val_accuracy: 0.8727\n",
            "Epoch 4/30\n",
            "186/188 [============================>.] - ETA: 0s - loss: 0.3072 - accuracy: 0.8877\n",
            "Epoch 00004: val_loss improved from 0.34561 to 0.32403, saving model to best_weights_iteration2.hdf5\n",
            "188/188 [==============================] - 3s 18ms/step - loss: 0.3071 - accuracy: 0.8876 - val_loss: 0.3240 - val_accuracy: 0.8862\n",
            "Epoch 5/30\n",
            "186/188 [============================>.] - ETA: 0s - loss: 0.2867 - accuracy: 0.8957\n",
            "Epoch 00005: val_loss improved from 0.32403 to 0.27582, saving model to best_weights_iteration2.hdf5\n",
            "188/188 [==============================] - 3s 18ms/step - loss: 0.2867 - accuracy: 0.8958 - val_loss: 0.2758 - val_accuracy: 0.8999\n",
            "Epoch 6/30\n",
            "187/188 [============================>.] - ETA: 0s - loss: 0.2641 - accuracy: 0.9045\n",
            "Epoch 00006: val_loss did not improve from 0.27582\n",
            "188/188 [==============================] - 3s 17ms/step - loss: 0.2640 - accuracy: 0.9045 - val_loss: 0.5199 - val_accuracy: 0.8430\n",
            "Epoch 7/30\n",
            "187/188 [============================>.] - ETA: 0s - loss: 0.2760 - accuracy: 0.8991\n",
            "Epoch 00007: val_loss improved from 0.27582 to 0.25027, saving model to best_weights_iteration2.hdf5\n",
            "188/188 [==============================] - 3s 18ms/step - loss: 0.2759 - accuracy: 0.8991 - val_loss: 0.2503 - val_accuracy: 0.9118\n",
            "Epoch 8/30\n",
            "188/188 [==============================] - ETA: 0s - loss: 0.2431 - accuracy: 0.9117\n",
            "Epoch 00008: val_loss improved from 0.25027 to 0.22824, saving model to best_weights_iteration2.hdf5\n",
            "188/188 [==============================] - 3s 17ms/step - loss: 0.2431 - accuracy: 0.9117 - val_loss: 0.2282 - val_accuracy: 0.9181\n",
            "Epoch 9/30\n",
            "186/188 [============================>.] - ETA: 0s - loss: 0.2457 - accuracy: 0.9102\n",
            "Epoch 00009: val_loss improved from 0.22824 to 0.21881, saving model to best_weights_iteration2.hdf5\n",
            "188/188 [==============================] - 3s 18ms/step - loss: 0.2450 - accuracy: 0.9104 - val_loss: 0.2188 - val_accuracy: 0.9162\n",
            "Epoch 10/30\n",
            "186/188 [============================>.] - ETA: 0s - loss: 0.2244 - accuracy: 0.9187\n",
            "Epoch 00010: val_loss improved from 0.21881 to 0.21739, saving model to best_weights_iteration2.hdf5\n",
            "188/188 [==============================] - 3s 18ms/step - loss: 0.2241 - accuracy: 0.9187 - val_loss: 0.2174 - val_accuracy: 0.9197\n",
            "Epoch 11/30\n",
            "185/188 [============================>.] - ETA: 0s - loss: 0.2116 - accuracy: 0.9234\n",
            "Epoch 00011: val_loss did not improve from 0.21739\n",
            "188/188 [==============================] - 3s 17ms/step - loss: 0.2120 - accuracy: 0.9231 - val_loss: 0.2208 - val_accuracy: 0.9223\n",
            "Epoch 12/30\n",
            "186/188 [============================>.] - ETA: 0s - loss: 0.2019 - accuracy: 0.9244\n",
            "Epoch 00012: val_loss did not improve from 0.21739\n",
            "188/188 [==============================] - 3s 17ms/step - loss: 0.2018 - accuracy: 0.9245 - val_loss: 0.2318 - val_accuracy: 0.9209\n",
            "Epoch 13/30\n",
            "187/188 [============================>.] - ETA: 0s - loss: 0.2006 - accuracy: 0.9264\n",
            "Epoch 00013: val_loss improved from 0.21739 to 0.21586, saving model to best_weights_iteration2.hdf5\n",
            "188/188 [==============================] - 3s 17ms/step - loss: 0.2007 - accuracy: 0.9264 - val_loss: 0.2159 - val_accuracy: 0.9238\n",
            "Epoch 14/30\n",
            "186/188 [============================>.] - ETA: 0s - loss: 0.1918 - accuracy: 0.9301\n",
            "Epoch 00014: val_loss improved from 0.21586 to 0.20908, saving model to best_weights_iteration2.hdf5\n",
            "188/188 [==============================] - 3s 18ms/step - loss: 0.1914 - accuracy: 0.9303 - val_loss: 0.2091 - val_accuracy: 0.9262\n",
            "Epoch 15/30\n",
            "188/188 [==============================] - ETA: 0s - loss: 0.1854 - accuracy: 0.9317\n",
            "Epoch 00015: val_loss did not improve from 0.20908\n",
            "188/188 [==============================] - 3s 18ms/step - loss: 0.1854 - accuracy: 0.9317 - val_loss: 0.2112 - val_accuracy: 0.9264\n",
            "Epoch 16/30\n",
            "187/188 [============================>.] - ETA: 0s - loss: 0.1813 - accuracy: 0.9332\n",
            "Epoch 00016: val_loss improved from 0.20908 to 0.20228, saving model to best_weights_iteration2.hdf5\n",
            "188/188 [==============================] - 3s 18ms/step - loss: 0.1812 - accuracy: 0.9332 - val_loss: 0.2023 - val_accuracy: 0.9261\n",
            "Epoch 17/30\n",
            "188/188 [==============================] - ETA: 0s - loss: 0.1771 - accuracy: 0.9350\n",
            "Epoch 00017: val_loss improved from 0.20228 to 0.19939, saving model to best_weights_iteration2.hdf5\n",
            "188/188 [==============================] - 3s 18ms/step - loss: 0.1771 - accuracy: 0.9350 - val_loss: 0.1994 - val_accuracy: 0.9287\n",
            "Epoch 18/30\n",
            "185/188 [============================>.] - ETA: 0s - loss: 0.1682 - accuracy: 0.9371\n",
            "Epoch 00018: val_loss improved from 0.19939 to 0.19859, saving model to best_weights_iteration2.hdf5\n",
            "188/188 [==============================] - 3s 18ms/step - loss: 0.1682 - accuracy: 0.9372 - val_loss: 0.1986 - val_accuracy: 0.9293\n",
            "Epoch 19/30\n",
            "188/188 [==============================] - ETA: 0s - loss: 0.1605 - accuracy: 0.9401\n",
            "Epoch 00019: val_loss did not improve from 0.19859\n",
            "188/188 [==============================] - 3s 17ms/step - loss: 0.1605 - accuracy: 0.9401 - val_loss: 0.2117 - val_accuracy: 0.9287\n",
            "Epoch 20/30\n",
            "188/188 [==============================] - ETA: 0s - loss: 0.1578 - accuracy: 0.9411\n",
            "Epoch 00020: val_loss did not improve from 0.19859\n",
            "188/188 [==============================] - 3s 17ms/step - loss: 0.1578 - accuracy: 0.9411 - val_loss: 0.2033 - val_accuracy: 0.9290\n",
            "Epoch 21/30\n",
            "185/188 [============================>.] - ETA: 0s - loss: 0.1571 - accuracy: 0.9422\n",
            "Epoch 00021: val_loss did not improve from 0.19859\n",
            "188/188 [==============================] - 3s 17ms/step - loss: 0.1573 - accuracy: 0.9420 - val_loss: 0.2030 - val_accuracy: 0.9278\n",
            "Epoch 22/30\n",
            "188/188 [==============================] - ETA: 0s - loss: 0.1514 - accuracy: 0.9431\n",
            "Epoch 00022: val_loss improved from 0.19859 to 0.19777, saving model to best_weights_iteration2.hdf5\n",
            "188/188 [==============================] - 3s 18ms/step - loss: 0.1514 - accuracy: 0.9431 - val_loss: 0.1978 - val_accuracy: 0.9317\n",
            "Epoch 23/30\n",
            "188/188 [==============================] - ETA: 0s - loss: 0.1498 - accuracy: 0.9443\n",
            "Epoch 00023: val_loss improved from 0.19777 to 0.19418, saving model to best_weights_iteration2.hdf5\n",
            "188/188 [==============================] - 3s 18ms/step - loss: 0.1498 - accuracy: 0.9443 - val_loss: 0.1942 - val_accuracy: 0.9312\n",
            "Epoch 24/30\n",
            "185/188 [============================>.] - ETA: 0s - loss: 0.1409 - accuracy: 0.9476\n",
            "Epoch 00024: val_loss did not improve from 0.19418\n",
            "188/188 [==============================] - 3s 17ms/step - loss: 0.1409 - accuracy: 0.9476 - val_loss: 0.1978 - val_accuracy: 0.9302\n",
            "Epoch 25/30\n",
            "187/188 [============================>.] - ETA: 0s - loss: 0.1417 - accuracy: 0.9480\n",
            "Epoch 00025: val_loss did not improve from 0.19418\n",
            "188/188 [==============================] - 3s 17ms/step - loss: 0.1416 - accuracy: 0.9481 - val_loss: 0.2170 - val_accuracy: 0.9269\n",
            "Epoch 26/30\n",
            "185/188 [============================>.] - ETA: 0s - loss: 0.1332 - accuracy: 0.9509\n",
            "Epoch 00026: val_loss did not improve from 0.19418\n",
            "188/188 [==============================] - 3s 17ms/step - loss: 0.1335 - accuracy: 0.9508 - val_loss: 0.2169 - val_accuracy: 0.9320\n",
            "Epoch 27/30\n",
            "187/188 [============================>.] - ETA: 0s - loss: 0.1284 - accuracy: 0.9524\n",
            "Epoch 00027: val_loss did not improve from 0.19418\n",
            "188/188 [==============================] - 3s 17ms/step - loss: 0.1286 - accuracy: 0.9523 - val_loss: 0.2159 - val_accuracy: 0.9292\n",
            "Epoch 28/30\n",
            "185/188 [============================>.] - ETA: 0s - loss: 0.1255 - accuracy: 0.9535\n",
            "Epoch 00028: val_loss did not improve from 0.19418\n",
            "188/188 [==============================] - 3s 17ms/step - loss: 0.1253 - accuracy: 0.9536 - val_loss: 0.2145 - val_accuracy: 0.9329\n"
          ],
          "name": "stdout"
        }
      ]
    },
    {
      "cell_type": "code",
      "metadata": {
        "id": "A5ZiDJf_NeR1",
        "colab_type": "code",
        "colab": {
          "base_uri": "https://localhost:8080/",
          "height": 68
        },
        "outputId": "846bb8af-2542-4422-c2ef-dd1ce436b9fc"
      },
      "source": [
        "model.predict(reshape_for_conv2d(X_test[0]))"
      ],
      "execution_count": null,
      "outputs": [
        {
          "output_type": "execute_result",
          "data": {
            "text/plain": [
              "array([[3.0480540e-12, 3.2259407e-11, 2.3379649e-12, 1.6069101e-12,\n",
              "        9.3465184e-12, 4.9917652e-08, 1.1884941e-12, 9.3820631e-08,\n",
              "        1.1397693e-13, 9.9999988e-01]], dtype=float32)"
            ]
          },
          "metadata": {
            "tags": []
          },
          "execution_count": 57
        }
      ]
    },
    {
      "cell_type": "code",
      "metadata": {
        "id": "0sNdbGlb8iIa",
        "colab_type": "code",
        "colab": {}
      },
      "source": [
        "y_pred = model.predict_classes(reshape_for_conv2d(X_test))"
      ],
      "execution_count": null,
      "outputs": []
    },
    {
      "cell_type": "code",
      "metadata": {
        "id": "F5kZeKiC-DvQ",
        "colab_type": "code",
        "colab": {
          "base_uri": "https://localhost:8080/",
          "height": 306
        },
        "outputId": "91657646-dee2-44d3-faac-1db1755b2fea"
      },
      "source": [
        "print(classification_report(y_test, y_pred,target_names=classes))"
      ],
      "execution_count": null,
      "outputs": [
        {
          "output_type": "stream",
          "text": [
            "              precision    recall  f1-score   support\n",
            "\n",
            " T-shirt/top       0.86      0.91      0.88      1000\n",
            "     Trouser       1.00      0.99      0.99      1000\n",
            "    Pullover       0.90      0.89      0.90      1000\n",
            "       Dress       0.95      0.92      0.93      1000\n",
            "        Coat       0.85      0.94      0.89      1000\n",
            "      Sandal       0.99      0.98      0.99      1000\n",
            "       Shirt       0.83      0.75      0.79      1000\n",
            "     Sneaker       0.95      0.99      0.97      1000\n",
            "         Bag       0.99      0.98      0.99      1000\n",
            "  Ankle boot       0.98      0.96      0.97      1000\n",
            "\n",
            "    accuracy                           0.93     10000\n",
            "   macro avg       0.93      0.93      0.93     10000\n",
            "weighted avg       0.93      0.93      0.93     10000\n",
            "\n"
          ],
          "name": "stdout"
        }
      ]
    },
    {
      "cell_type": "code",
      "metadata": {
        "id": "G7YSJ0B6_rgC",
        "colab_type": "code",
        "colab": {
          "base_uri": "https://localhost:8080/",
          "height": 265
        },
        "outputId": "a49a1667-8f3d-4c7e-daa0-4928f65cc85e"
      },
      "source": [
        "plot_history(history)"
      ],
      "execution_count": null,
      "outputs": [
        {
          "output_type": "display_data",
          "data": {
            "image/png": "[encoded data removed]",
            "text/plain": [
              "<Figure size 432x288 with 1 Axes>"
            ]
          },
          "metadata": {
            "tags": [],
            "needs_background": "light"
          }
        }
      ]
    },
    {
      "cell_type": "markdown",
      "metadata": {
        "id": "YRTWry0VXpI-",
        "colab_type": "text"
      },
      "source": [
        "## Transfer Learning"
      ]
    },
    {
      "cell_type": "markdown",
      "metadata": {
        "id": "R4OL48-0bhov",
        "colab_type": "text"
      },
      "source": [
        "## Images"
      ]
    },
    {
      "cell_type": "code",
      "metadata": {
        "id": "CB34U4yfZpeO",
        "colab_type": "code",
        "colab": {
          "base_uri": "https://localhost:8080/",
          "height": 286
        },
        "outputId": "94be3965-f9c6-4647-ed07-b00d4647791a"
      },
      "source": [
        "#taken from https://machinelearningmastery.com/how-to-use-transfer-learning-when-developing-convolutional-neural-network-models/\n",
        "\n",
        "# example of using a pre-trained model as a classifier\n",
        "from keras.preprocessing.image import load_img\n",
        "from keras.preprocessing.image import img_to_array\n",
        "from keras.applications.vgg16 import preprocess_input\n",
        "from keras.applications.vgg16 import decode_predictions\n",
        "from keras.applications.vgg16 import VGG16\n",
        "# load an image from file\n",
        "image = load_img('bottle.jpg', target_size=(224, 224))\n",
        "plt.imshow(image)\n",
        "# convert the image pixels to a numpy array\n",
        "image = img_to_array(image)\n",
        "# reshape data for the model\n",
        "image = image.reshape((1, image.shape[0], image.shape[1], image.shape[2]))\n",
        "# prepare the image for the VGG model\n",
        "image = preprocess_input(image)\n",
        "# load the model\n",
        "model = VGG16()\n",
        "# predict the probability across all output classes\n",
        "yhat = model.predict(image)\n",
        "# convert the probabilities to class labels\n",
        "label = decode_predictions(yhat)\n",
        "# retrieve the most likely result, e.g. highest probability\n",
        "label = label[0][0]\n",
        "# print the classification\n",
        "print('%s (%.2f%%)' % (label[1], label[2]*100))"
      ],
      "execution_count": null,
      "outputs": [
        {
          "output_type": "stream",
          "text": [
            "water_bottle (88.51%)\n"
          ],
          "name": "stdout"
        },
        {
          "output_type": "display_data",
          "data": {
            "image/png": "[encoded data removed]",
            "text/plain": [
              "<Figure size 432x288 with 1 Axes>"
            ]
          },
          "metadata": {
            "tags": [],
            "needs_background": "light"
          }
        }
      ]
    },
    {
      "cell_type": "markdown",
      "metadata": {
        "id": "wSSpPVZUb_-A",
        "colab_type": "text"
      },
      "source": [
        "## Text"
      ]
    },
    {
      "cell_type": "code",
      "metadata": {
        "id": "K0LrfioJa1e3",
        "colab_type": "code",
        "colab": {
          "base_uri": "https://localhost:8080/",
          "height": 34
        },
        "outputId": "d28ed1d0-8285-4a17-ac05-2ac2dc1650e6"
      },
      "source": [
        "from transformers import pipeline\n",
        "\n",
        "sentence = 'Deep learning is terrible!'\n",
        "\n",
        "# Allocate a pipeline for sentiment-analysis\n",
        "nlp = pipeline('sentiment-analysis')\n",
        "nlp(sentence)\n"
      ],
      "execution_count": null,
      "outputs": [
        {
          "output_type": "execute_result",
          "data": {
            "text/plain": [
              "[{'label': 'NEGATIVE', 'score': 0.9983699321746826}]"
            ]
          },
          "metadata": {
            "tags": []
          },
          "execution_count": 66
        }
      ]
    },
    {
      "cell_type": "code",
      "metadata": {
        "id": "-cor5QSJfls5",
        "colab_type": "code",
        "colab": {
          "base_uri": "https://localhost:8080/",
          "height": 615
        },
        "outputId": "95933623-4805-4561-d8f2-72044ebfad37"
      },
      "source": [
        "!pip install -U transformers"
      ],
      "execution_count": null,
      "outputs": [
        {
          "output_type": "stream",
          "text": [
            "Collecting transformers\n",
            "\u001b[?25l  Downloading https://files.pythonhosted.org/packages/27/3c/91ed8f5c4e7ef3227b4119200fc0ed4b4fd965b1f0172021c25701087825/transformers-3.0.2-py3-none-any.whl (769kB)\n",
            "\u001b[K     |████████████████████████████████| 778kB 2.8MB/s \n",
            "\u001b[?25hRequirement already satisfied, skipping upgrade: numpy in /usr/local/lib/python3.6/dist-packages (from transformers) (1.18.5)\n",
            "Requirement already satisfied, skipping upgrade: dataclasses; python_version < \"3.7\" in /usr/local/lib/python3.6/dist-packages (from transformers) (0.7)\n",
            "Requirement already satisfied, skipping upgrade: packaging in /usr/local/lib/python3.6/dist-packages (from transformers) (20.4)\n",
            "Requirement already satisfied, skipping upgrade: requests in /usr/local/lib/python3.6/dist-packages (from transformers) (2.23.0)\n",
            "Collecting sentencepiece!=0.1.92\n",
            "\u001b[?25l  Downloading https://files.pythonhosted.org/packages/d4/a4/d0a884c4300004a78cca907a6ff9a5e9fe4f090f5d95ab341c53d28cbc58/sentencepiece-0.1.91-cp36-cp36m-manylinux1_x86_64.whl (1.1MB)\n",
            "\u001b[K     |████████████████████████████████| 1.1MB 12.5MB/s \n",
            "\u001b[?25hCollecting sacremoses\n",
            "\u001b[?25l  Downloading https://files.pythonhosted.org/packages/7d/34/09d19aff26edcc8eb2a01bed8e98f13a1537005d31e95233fd48216eed10/sacremoses-0.0.43.tar.gz (883kB)\n",
            "\u001b[K     |████████████████████████████████| 890kB 18.4MB/s \n",
            "\u001b[?25hRequirement already satisfied, skipping upgrade: tqdm>=4.27 in /usr/local/lib/python3.6/dist-packages (from transformers) (4.41.1)\n",
            "Collecting tokenizers==0.8.1.rc1\n",
            "\u001b[?25l  Downloading https://files.pythonhosted.org/packages/40/d0/30d5f8d221a0ed981a186c8eb986ce1c94e3a6e87f994eae9f4aa5250217/tokenizers-0.8.1rc1-cp36-cp36m-manylinux1_x86_64.whl (3.0MB)\n",
            "\u001b[K     |████████████████████████████████| 3.0MB 25.4MB/s \n",
            "\u001b[?25hRequirement already satisfied, skipping upgrade: regex!=2019.12.17 in /usr/local/lib/python3.6/dist-packages (from transformers) (2019.12.20)\n",
            "Requirement already satisfied, skipping upgrade: filelock in /usr/local/lib/python3.6/dist-packages (from transformers) (3.0.12)\n",
            "Requirement already satisfied, skipping upgrade: pyparsing>=2.0.2 in /usr/local/lib/python3.6/dist-packages (from packaging->transformers) (2.4.7)\n",
            "Requirement already satisfied, skipping upgrade: six in /usr/local/lib/python3.6/dist-packages (from packaging->transformers) (1.15.0)\n",
            "Requirement already satisfied, skipping upgrade: certifi>=2017.4.17 in /usr/local/lib/python3.6/dist-packages (from requests->transformers) (2020.6.20)\n",
            "Requirement already satisfied, skipping upgrade: idna<3,>=2.5 in /usr/local/lib/python3.6/dist-packages (from requests->transformers) (2.10)\n",
            "Requirement already satisfied, skipping upgrade: urllib3!=1.25.0,!=1.25.1,<1.26,>=1.21.1 in /usr/local/lib/python3.6/dist-packages (from requests->transformers) (1.24.3)\n",
            "Requirement already satisfied, skipping upgrade: chardet<4,>=3.0.2 in /usr/local/lib/python3.6/dist-packages (from requests->transformers) (3.0.4)\n",
            "Requirement already satisfied, skipping upgrade: click in /usr/local/lib/python3.6/dist-packages (from sacremoses->transformers) (7.1.2)\n",
            "Requirement already satisfied, skipping upgrade: joblib in /usr/local/lib/python3.6/dist-packages (from sacremoses->transformers) (0.16.0)\n",
            "Building wheels for collected packages: sacremoses\n",
            "  Building wheel for sacremoses (setup.py) ... \u001b[?25l\u001b[?25hdone\n",
            "  Created wheel for sacremoses: filename=sacremoses-0.0.43-cp36-none-any.whl size=893260 sha256=a19e5c9cc89ed36a679696a8c698ed264b3b6b99ea85e05386f1b6de46f1a5e6\n",
            "  Stored in directory: /root/.cache/pip/wheels/29/3c/fd/7ce5c3f0666dab31a50123635e6fb5e19ceb42ce38d4e58f45\n",
            "Successfully built sacremoses\n",
            "Installing collected packages: sentencepiece, sacremoses, tokenizers, transformers\n",
            "Successfully installed sacremoses-0.0.43 sentencepiece-0.1.91 tokenizers-0.8.1rc1 transformers-3.0.2\n"
          ],
          "name": "stdout"
        }
      ]
    },
    {
      "cell_type": "code",
      "metadata": {
        "id": "Apd1J4fhBGEb",
        "colab_type": "code",
        "colab": {}
      },
      "source": [
        ""
      ],
      "execution_count": null,
      "outputs": []
    }
  ]
}